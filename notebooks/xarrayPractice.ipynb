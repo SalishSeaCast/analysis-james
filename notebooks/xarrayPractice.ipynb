{
 "cells": [
  {
   "cell_type": "code",
   "execution_count": 51,
   "metadata": {
    "collapsed": true
   },
   "outputs": [],
   "source": [
    "import numpy as np\n",
    "import xarray as xr\n",
    "import math\n",
    "import matplotlib.pyplot as plt\n",
    "\n",
    "%matplotlib inline"
   ]
  },
  {
   "cell_type": "code",
   "execution_count": 3,
   "metadata": {
    "collapsed": false
   },
   "outputs": [],
   "source": [
    "ds = xr.open_dataset('https://salishsea.eos.ubc.ca/erddap/griddap/ubcSSnBathymetry2V1')"
   ]
  },
  {
   "cell_type": "code",
   "execution_count": 4,
   "metadata": {
    "collapsed": true
   },
   "outputs": [
    {
     "name": "stdout",
     "output_type": "stream",
     "text": [
      "<xarray.Dataset>\n",
      "Dimensions:     (gridX: 398, gridY: 898)\n",
      "Coordinates:\n",
      "  * gridY       (gridY) int32 0 1 2 3 4 5 6 7 8 9 10 11 12 13 14 15 16 17 18 ...\n",
      "  * gridX       (gridX) int16 0 1 2 3 4 5 6 7 8 9 10 11 12 13 14 15 16 17 18 ...\n",
      "Data variables:\n",
      "    longitude   (gridY, gridX) float32 ...\n",
      "    latitude    (gridY, gridX) float32 ...\n",
      "    bathymetry  (gridY, gridX) float64 ...\n",
      "Attributes:\n",
      "    acknowledgement: MEOPAR, ONC, Compute Canada\n",
      "    cdm_data_type: Grid\n",
      "    comment: Bathymetry, Latitudes and Longitudes\n",
      "    Conventions: CF-1.6, COARDS, ACDD-1.3\n",
      "    coverage_content_type: modelResult\n",
      "    creator_email: sallen@eos.ubc.ca\n",
      "    creator_name: Salish Sea MEOPAR Project Contributors\n",
      "    creator_url: https://salishsea-meopar-docs.readthedocs.org/\n",
      "    drawLandMask: over\n",
      "    history: [2016-02-05 16:35:19] Created dataset.\n",
      "[2016-03-02 18:08:56] Changed all variables to zlib=True.\n",
      "[2016-03-02 18:08:56] Added least_significant_digit=1 and fill_value=0 to bathymetry variable.\n",
      "[2016-03-03 12:28:37] Added valid_range attribute to all variables.\n",
      "2016-05-09T23:29:19Z (local files)\n",
      "2016-05-09T23:29:19Z https://salishsea.eos.ubc.ca/erddap/griddap/ubcSSnBathymetry2V1.das\n",
      "    infoUrl: https://salishsea-meopar-tools.readthedocs.org/en/latest/results_server/index.html#salish-sea-model-results\n",
      "    institution: UBC EOAS\n",
      "    institution_fullname: Earth, Ocean & Atmospheric Sciences, University of British Columbia\n",
      "    keywords: bathymetry, bottom, data, model results, depth, floor, latitude, longitude, nemo, ocean, oceans,\n",
      "Oceans > Bathymetry/Seafloor Topography > Bathymetry, salishsea, sea, sea_floor_depth, seafloor, topography\n",
      "    keywords_vocabulary: GCMD Science Keywords\n",
      "    license: The Salish Sea MEOPAR NEMO model results are copyright 2013-2016\n",
      "by the Salish Sea MEOPAR Project Contributors and The University of British Columbia.\n",
      "\n",
      "They are licensed under the Apache License, Version 2.0. http://www.apache.org/licenses/LICENSE-2.0\n",
      "    project: Salish Sea MEOPAR NEMO Model\n",
      "    references: https://bitbucket.org/salishsea/nemo-forcing/src/tipgrid/mesh_mask_SalishSea2.nc\n",
      "    source: https://bitbucket.org/salishsea/tools/src/tip/bathymetry/NEMOBathymetryfromMeshMask.ipynb\n",
      "    sourceUrl: (local files)\n",
      "    standard_name_vocabulary: CF Standard Name Table v29\n",
      "    summary: Salish Sea NEMO Model Grid, Geo-location and Bathymetry, v1\n",
      "\n",
      "Longitude, latitude, and bathymetry of the Salish Sea NEMO model grid.\n",
      "The bathymetry values are those calculated by NEMO from the input bathymetry file.\n",
      "NEMO modifies the input bathymetry to remove isolated holes, and too-small partial steps.\n",
      "The model grid includes the Juan de Fuca Strait, the Strait of Georgia, Puget Sound,\n",
      "and Johnstone Strait on the coasts of Washington State and British Columbia.\n",
      "\n",
      "v1: longitude, latitude and b...\n",
      "    title: Salish Sea NEMO Model Grid, Geo-location and Bathymetry, v1\n"
     ]
    }
   ],
   "source": [
    "print(ds)"
   ]
  },
  {
   "cell_type": "code",
   "execution_count": 15,
   "metadata": {
    "collapsed": false
   },
   "outputs": [
    {
     "name": "stdout",
     "output_type": "stream",
     "text": [
      "Frozen(SortedKeysDict({'gridX': 398, 'gridY': 898}))\n",
      "898\n"
     ]
    }
   ],
   "source": [
    "print(ds.dims)\n",
    "print(ds.dims['gridY'])"
   ]
  },
  {
   "cell_type": "code",
   "execution_count": 16,
   "metadata": {
    "collapsed": false
   },
   "outputs": [
    {
     "data": {
      "text/plain": [
       "Data variables:\n",
       "    longitude   (gridY, gridX) float32 ...\n",
       "    latitude    (gridY, gridX) float32 ...\n",
       "    bathymetry  (gridY, gridX) float64 ..."
      ]
     },
     "execution_count": 16,
     "metadata": {},
     "output_type": "execute_result"
    }
   ],
   "source": [
    "ds.data_vars"
   ]
  },
  {
   "cell_type": "code",
   "execution_count": 17,
   "metadata": {
    "collapsed": false
   },
   "outputs": [
    {
     "data": {
      "text/plain": [
       "Coordinates:\n",
       "  * gridY    (gridY) int32 0 1 2 3 4 5 6 7 8 9 10 11 12 13 14 15 16 17 18 19 ...\n",
       "  * gridX    (gridX) int16 0 1 2 3 4 5 6 7 8 9 10 11 12 13 14 15 16 17 18 19 ..."
      ]
     },
     "execution_count": 17,
     "metadata": {},
     "output_type": "execute_result"
    }
   ],
   "source": [
    "ds.coords"
   ]
  },
  {
   "cell_type": "code",
   "execution_count": 18,
   "metadata": {
    "collapsed": true
   },
   "outputs": [
    {
     "data": {
      "text/plain": [
       "OrderedDict([('acknowledgement', 'MEOPAR, ONC, Compute Canada'),\n",
       "             ('cdm_data_type', 'Grid'),\n",
       "             ('comment', 'Bathymetry, Latitudes and Longitudes'),\n",
       "             ('Conventions', 'CF-1.6, COARDS, ACDD-1.3'),\n",
       "             ('coverage_content_type', 'modelResult'),\n",
       "             ('creator_email', 'sallen@eos.ubc.ca'),\n",
       "             ('creator_name', 'Salish Sea MEOPAR Project Contributors'),\n",
       "             ('creator_url', 'https://salishsea-meopar-docs.readthedocs.org/'),\n",
       "             ('drawLandMask', 'over'),\n",
       "             ('history',\n",
       "              '[2016-02-05 16:35:19] Created dataset.\\n[2016-03-02 18:08:56] Changed all variables to zlib=True.\\n[2016-03-02 18:08:56] Added least_significant_digit=1 and fill_value=0 to bathymetry variable.\\n[2016-03-03 12:28:37] Added valid_range attribute to all variables.\\n2016-05-09T23:29:19Z (local files)\\n2016-05-09T23:29:19Z https://salishsea.eos.ubc.ca/erddap/griddap/ubcSSnBathymetry2V1.das'),\n",
       "             ('infoUrl',\n",
       "              'https://salishsea-meopar-tools.readthedocs.org/en/latest/results_server/index.html#salish-sea-model-results'),\n",
       "             ('institution', 'UBC EOAS'),\n",
       "             ('institution_fullname',\n",
       "              'Earth, Ocean & Atmospheric Sciences, University of British Columbia'),\n",
       "             ('keywords',\n",
       "              'bathymetry, bottom, data, model results, depth, floor, latitude, longitude, nemo, ocean, oceans,\\nOceans > Bathymetry/Seafloor Topography > Bathymetry, salishsea, sea, sea_floor_depth, seafloor, topography'),\n",
       "             ('keywords_vocabulary', 'GCMD Science Keywords'),\n",
       "             ('license',\n",
       "              'The Salish Sea MEOPAR NEMO model results are copyright 2013-2016\\nby the Salish Sea MEOPAR Project Contributors and The University of British Columbia.\\n\\nThey are licensed under the Apache License, Version 2.0. http://www.apache.org/licenses/LICENSE-2.0'),\n",
       "             ('project', 'Salish Sea MEOPAR NEMO Model'),\n",
       "             ('references',\n",
       "              'https://bitbucket.org/salishsea/nemo-forcing/src/tipgrid/mesh_mask_SalishSea2.nc'),\n",
       "             ('source',\n",
       "              'https://bitbucket.org/salishsea/tools/src/tip/bathymetry/NEMOBathymetryfromMeshMask.ipynb'),\n",
       "             ('sourceUrl', '(local files)'),\n",
       "             ('standard_name_vocabulary', 'CF Standard Name Table v29'),\n",
       "             ('summary',\n",
       "              'Salish Sea NEMO Model Grid, Geo-location and Bathymetry, v1\\n\\nLongitude, latitude, and bathymetry of the Salish Sea NEMO model grid.\\nThe bathymetry values are those calculated by NEMO from the input bathymetry file.\\nNEMO modifies the input bathymetry to remove isolated holes, and too-small partial steps.\\nThe model grid includes the Juan de Fuca Strait, the Strait of Georgia, Puget Sound,\\nand Johnstone Strait on the coasts of Washington State and British Columbia.\\n\\nv1: longitude, latitude and bathymetry variables'),\n",
       "             ('title',\n",
       "              'Salish Sea NEMO Model Grid, Geo-location and Bathymetry, v1')])"
      ]
     },
     "execution_count": 18,
     "metadata": {},
     "output_type": "execute_result"
    }
   ],
   "source": [
    "ds.attrs"
   ]
  },
  {
   "cell_type": "code",
   "execution_count": 56,
   "metadata": {
    "collapsed": false
   },
   "outputs": [
    {
     "name": "stdout",
     "output_type": "stream",
     "text": [
      "[[ nan  nan  nan ...,  nan  nan  nan]\n",
      " [ nan  nan  nan ...,  nan  nan  nan]\n",
      " [ nan  nan  nan ...,  nan  nan  nan]\n",
      " ..., \n",
      " [ nan  nan  nan ...,  nan  nan  nan]\n",
      " [ nan  nan  nan ...,  nan  nan  nan]\n",
      " [ nan  nan  nan ...,  nan  nan  nan]]\n"
     ]
    },
    {
     "data": {
      "text/plain": [
       "0.21566350684379582"
      ]
     },
     "execution_count": 56,
     "metadata": {},
     "output_type": "execute_result"
    }
   ],
   "source": [
    "print(ds.bathymetry.values)\n",
    "(np.logical_not(np.isnan(ds.bathymetry.values))).sum()/ds.bathymetry.values.size # percentage of area that is water (by area)\n"
   ]
  },
  {
   "cell_type": "code",
   "execution_count": 46,
   "metadata": {
    "collapsed": false
   },
   "outputs": [
    {
     "data": {
      "text/plain": [
       "array([   4.    ,    5.375 ,    8.375 , ...,  133.1875,    8.25  ,    7.625 ])"
      ]
     },
     "execution_count": 46,
     "metadata": {},
     "output_type": "execute_result"
    }
   ],
   "source": [
    "# Subset for values that are not NaN (loses dimensionality though)\n",
    "(ds.bathymetry.values[np.logical_not(np.isnan(ds.bathymetry.values))]) "
   ]
  },
  {
   "cell_type": "code",
   "execution_count": 55,
   "metadata": {
    "collapsed": false
   },
   "outputs": [
    {
     "data": {
      "text/plain": [
       "<matplotlib.colorbar.Colorbar at 0x7f4079d2f518>"
      ]
     },
     "execution_count": 55,
     "metadata": {},
     "output_type": "execute_result"
    },
    {
     "data": {
      "image/png": "[encoded data removed]",
      "text/plain": [
       "<matplotlib.figure.Figure at 0x7f407a97ac18>"
      ]
     },
     "metadata": {},
     "output_type": "display_data"
    }
   ],
   "source": [
    "fig, ax = plt.subplots(1, 1)\n",
    "mesh = ax.pcolormesh(ds.bathymetry.values)\n",
    "fig.colorbar(mesh)"
   ]
  }
 ],
 "metadata": {
  "kernelspec": {
   "display_name": "Python 3",
   "language": "python",
   "name": "python3"
  },
  "language_info": {
   "codemirror_mode": {
    "name": "ipython",
    "version": 3
   },
   "file_extension": ".py",
   "mimetype": "text/x-python",
   "name": "python",
   "nbconvert_exporter": "python",
   "pygments_lexer": "ipython3",
   "version": "3.5.1"
  }
 },
 "nbformat": 4,
 "nbformat_minor": 0
}
