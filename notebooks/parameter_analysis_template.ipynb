{
 "cells": [
  {
   "cell_type": "code",
   "execution_count": null,
   "metadata": {
    "collapsed": true
   },
   "outputs": [],
   "source": [
    "import numpy as np\n",
    "import xarray as xr\n",
    "import math\n",
    "import matplotlib.pyplot as plt\n",
    "import pandas as pd\n",
    "import seaborn as sns\n",
    "import os\n",
    "\n",
    "%matplotlib inline\n",
    "plt.rcParams['image.cmap'] = 'jet'\n",
    "#sns.set(font_scale=2)"
   ]
  },
  {
   "cell_type": "code",
   "execution_count": null,
   "metadata": {
    "collapsed": false
   },
   "outputs": [],
   "source": [
    "# Parent directory for the results of this run\n",
    "group_results_directory = 'INSERT_RESULTS_DIRECTORY' + '/'\n",
    "tracer_file = 'SS5x5_1h_20150201_20150501_ptrc_T.nc'\n",
    "mesh_mask_file = 'mesh_mask.nc'\n",
    "individual_directories = []\n",
    "param_vals = []\n",
    "param_name = \"INSERT_PARAM_NAME\"\n",
    "\n",
    "for file in os.listdir(group_results_directory):\n",
    "    if os.path.isfile(group_results_directory + file + '/' + tracer_file):\n",
    "        if file.startswith(param_name):\n",
    "            val = float(file.split(param_name + \"_\")[1])\n",
    "            individual_directories.append(file)\n",
    "            param_vals.append(val)\n",
    "\n",
    "tracer_datasets = [xr.open_dataset(group_results_directory + '/' + file +'/' + tracer_file) for file in individual_directories]\n",
    "dataset_dict = dict(zip(param_vals, tracer_datasets))"
   ]
  },
  {
   "cell_type": "code",
   "execution_count": null,
   "metadata": {
    "collapsed": true
   },
   "outputs": [],
   "source": [
    "depths = dataset_dict[param_vals[0]].deptht.values\n",
    "\n",
    "min_depth_index = np.argmax(depths > 150)\n",
    "max_depth_index = len(depths)\n",
    "\n",
    "#for param in param_vals:\n",
    "t = np.array([float(x) for x in dataset_dict[param_vals[0]].time_centered.values])   \n",
    "days = (t[:] - t[0])/10**9/3600/24\n",
    "\n",
    "min_day_index = np.argmax(days > 30)\n",
    "max_day_index = len(days)\n",
    "\n",
    "mesh_mask = xr.open_dataset(group_results_directory + individual_directories[0] + '/' + mesh_mask_file)\n",
    "grid_heights = np.array(mesh_mask['e3t_1d'][0])\n",
    "\n",
    "param_metrics = pd.DataFrame({param_name:param_vals})\n",
    "\n",
    "plot_tracers = ['NO3', 'POC', 'DOC', 'NH4']\n",
    "\n",
    "for param in param_vals:\n",
    "    for tracer in plot_tracers:\n",
    "        tracer_quantity_array = ((dataset_dict[param][tracer].values)*(grid_heights.reshape((1,40,1,1))))\n",
    "        total_tracer_at_depth = tracer_quantity_array[min_day_index:max_day_index, min_depth_index:max_depth_index,:,:].sum()\n",
    "        mean_tracer = total_tracer_at_depth/sum(grid_heights[min_depth_index:max_depth_index])/(max_day_index - min_day_index)/15\n",
    "        param_metrics.loc[(param_metrics[param_name] == param), \"MEAN_\"+tracer+ \"_AT_DEPTH\"] = mean_tracer\n",
    "    phy2_qunatity_array = ((dataset_dict[param][\"PHY2\"].values)*(grid_heights.reshape((1,40,1,1))))\n",
    "    phy2_qunatity_array.sum((0,3)).shape\n",
    "    total_phy2 = phy2_qunatity_array.sum((1,2,3))\n",
    "    param_metrics.loc[(param_metrics[param_name] == param), \"BLOOM_TIME\"] = days[np.argmax(total_phy2)]\n",
    "\n",
    "    \n",
    "p = sns.lmplot(param_name, 'BLOOM_TIME',data=param_metrics,fit_reg=False, scatter_kws={\"marker\": \"D\",  \"s\": 100})\n",
    "plt.xlim(0 - max(param_vals)*0.1,max(param_vals)*1.1)\n",
    "plt.ylim(0.95*min(param_metrics['BLOOM_TIME']),max(param_metrics['BLOOM_TIME'])*1.05)    \n",
    "for tracer in plot_tracers:\n",
    "    p = sns.lmplot(param_name, 'MEAN_'+tracer + \"_AT_DEPTH\",data=param_metrics,fit_reg=False, scatter_kws={\"marker\": \"D\",  \"s\": 100})\n",
    "    plt.xlim(0 - max(param_vals)*0.1,max(param_vals)*1.1)"
   ]
  },
  {
   "cell_type": "code",
   "execution_count": null,
   "metadata": {
    "collapsed": true
   },
   "outputs": [],
   "source": [
    "# Plot depth/time/DON heatmap for each value of alpha\n",
    "tracer = \"PHY2\"\n",
    "\n",
    "\n",
    "keys = (list(dataset_dict.keys()))\n",
    "keys.sort()\n",
    "\n",
    "for param_val in keys:\n",
    "    z = dataset_dict[param_val].deptht.values\n",
    "    t= np.array([float(x) for x in dataset_dict[param_val].time_centered.values])\n",
    "    tz,zt=np.meshgrid((t[:] - t[0])/10**9/3600/24,z[:])\n",
    "    \n",
    "    fig, ax = plt.subplots(1, 1,figsize=(10,4))\n",
    "    mesh=plt.pcolormesh(tz,zt,dataset_dict[param_val][tracer].values[:,:,2,2].T, vmin = 0,vmax = 1.8)\n",
    "    fig.colorbar(mesh)\n",
    "    plt.gca().invert_yaxis()\n",
    "    plt.title(tracer +  \" (Param = \" + str(param_val)+\")\", size = 20)\n",
    "    plt.xlabel(\"Days\", size =18)\n",
    "    plt.ylabel(\"Depth\", size = 18)"
   ]
  },
  {
   "cell_type": "code",
   "execution_count": null,
   "metadata": {
    "collapsed": true
   },
   "outputs": [],
   "source": [
    "# Plot the difference in DON concentration vs depth and time\n",
    "fig, ax = plt.subplots(1, 1,figsize=(15,6))\n",
    "param_1 = min(param_vals)\n",
    "param_2 = max(param_vals)\n",
    "mesh=plt.pcolormesh(tz,zt,dataset_dict[param_1][tracer].values[:,:,2,2].T - dataset_dict[param_2][tracer].values[:,:,2,2].T)\n",
    "fig.colorbar(mesh)\n",
    "plt.gca().invert_yaxis()\n",
    "plt.xlabel(\"Days\", size =18)\n",
    "plt.ylabel(\"Depth\", size = 18)\n",
    "plt.title(tracer + \" difference (Param=\" + str(param_1) + \" - Param=\" +str(param_2)+ \")\")"
   ]
  },
  {
   "cell_type": "code",
   "execution_count": null,
   "metadata": {
    "collapsed": true
   },
   "outputs": [],
   "source": [
    "# Plot depth/time/NO3 heatmap for each value\n",
    "tracer = \"NO3\"\n",
    "\n",
    "\n",
    "for param_val in keys:\n",
    "    z = dataset_dict[param_val].deptht.values\n",
    "    t= np.array([float(x) for x in dataset_dict[param_val].time_centered.values])\n",
    "    tz,zt=np.meshgrid((t[:] - t[0])/10**9/3600/24,z[:])\n",
    "    \n",
    "    fig, ax = plt.subplots(1, 1,figsize=(10,4))\n",
    "    mesh=plt.pcolormesh(tz,zt,dataset_dict[param_val][tracer].values[:,:,2,2].T, vmin = 0, vmax = 32)\n",
    "    fig.colorbar(mesh)\n",
    "    plt.gca().invert_yaxis()\n",
    "    plt.title(tracer + \" (Param = \" + str(param_val)+\")\", size = 20)\n",
    "    plt.xlabel(\"Days\", size =18)\n",
    "    plt.ylabel(\"Depth\", size = 18)"
   ]
  },
  {
   "cell_type": "code",
   "execution_count": null,
   "metadata": {
    "collapsed": true
   },
   "outputs": [],
   "source": [
    "# Plot the difference in NO3 concentration vs depth and time\n",
    "fig, ax = plt.subplots(1, 1,figsize=(15,6))\n",
    "param_1 = min(param_vals)\n",
    "param_2 = max(param_vals)\n",
    "\n",
    "mesh=plt.pcolormesh(tz,zt,dataset_dict[param_1][tracer].values[:,:,2,2].T - dataset_dict[param_2][tracer].values[:,:,2,2].T)\n",
    "fig.colorbar(mesh)\n",
    "plt.gca().invert_yaxis()\n",
    "plt.xlabel(\"Days\", size =18)\n",
    "plt.ylabel(\"Depth\", size = 18)\n",
    "plt.title(tracer + \" difference (Param=\" + str(param_1) + \" - Param=\" +str(param_2)+ \")\")"
   ]
  },
  {
   "cell_type": "code",
   "execution_count": null,
   "metadata": {
    "collapsed": true
   },
   "outputs": [],
   "source": [
    "# Plot depth/time/DON heatmap for each value of alpha\n",
    "tracer = \"NH4\"\n",
    "\n",
    "\n",
    "keys = (list(dataset_dict.keys()))\n",
    "keys.sort()\n",
    "\n",
    "for param_val in keys:\n",
    "    z = dataset_dict[param_val].deptht.values\n",
    "    t= np.array([float(x) for x in dataset_dict[param_val].time_centered.values])\n",
    "    tz,zt=np.meshgrid((t[:] - t[0])/10**9/3600/24,z[:])\n",
    "    \n",
    "    fig, ax = plt.subplots(1, 1,figsize=(10,4))\n",
    "    mesh=plt.pcolormesh(tz,zt,dataset_dict[param_val][tracer].values[:,:,2,2].T, vmin = 0,vmax = 2.7)\n",
    "    fig.colorbar(mesh)\n",
    "    plt.gca().invert_yaxis()\n",
    "    plt.title(tracer +  \" (Param = \" + str(param_val)+\")\", size = 20)\n",
    "    plt.xlabel(\"Days\", size =18)\n",
    "    plt.ylabel(\"Depth\", size = 18)"
   ]
  },
  {
   "cell_type": "code",
   "execution_count": null,
   "metadata": {
    "collapsed": true
   },
   "outputs": [],
   "source": [
    "# Plot the difference in NO3 concentration vs depth and time\n",
    "fig, ax = plt.subplots(1, 1,figsize=(15,6))\n",
    "param_1 = min(param_vals)\n",
    "param_2 = max(param_vals)\n",
    "\n",
    "mesh=plt.pcolormesh(tz,zt,dataset_dict[param_1][tracer].values[:,:,2,2].T - dataset_dict[param_2][tracer].values[:,:,2,2].T)\n",
    "fig.colorbar(mesh)\n",
    "plt.gca().invert_yaxis()\n",
    "plt.xlabel(\"Days\", size =18)\n",
    "plt.ylabel(\"Depth\", size = 18)\n",
    "plt.title(tracer + \" difference (Param=\" + str(param_1) + \" - Param=\" +str(param_2)+ \")\")"
   ]
  },
  {
   "cell_type": "code",
   "execution_count": null,
   "metadata": {
    "collapsed": false
   },
   "outputs": [],
   "source": [
    "# Convert list of xarrays to a single pandas dataframe. Easier to manipulate and plot\n",
    "dataframe_list = []\n",
    "for param_val in keys:\n",
    "    df = dataset_dict[param_val].to_dataframe().query('x == 2 and y == 2 and axis_nbounds == 0')\n",
    "    df[param_name] = param_val\n",
    "    dataframe_list.append(df)\n",
    "\n",
    "df_subset = pd.concat(dataframe_list)\n",
    "\n",
    "df_subset.reset_index(inplace=True) # Get rid of that multiindex madness"
   ]
  },
  {
   "cell_type": "code",
   "execution_count": null,
   "metadata": {
    "collapsed": false
   },
   "outputs": [],
   "source": [
    "plot_vars = [ 'DOC','MICZ', 'MYRI', 'NH4', 'NO3', 'O2', 'PHY', 'PHY2', 'POC', 'Si', 'bSi']"
   ]
  },
  {
   "cell_type": "code",
   "execution_count": null,
   "metadata": {
    "collapsed": true
   },
   "outputs": [],
   "source": [
    "sns.set(font_scale = 2)\n",
    "depth_vals = (df_subset['deptht'].unique())[0:40:15]\n",
    "\n",
    "print(depth_vals)\n",
    "for var in plot_vars:\n",
    "    fg = sns.FacetGrid(data=df_subset.query(\"deptht in @depth_vals\"), hue=param_name,col = \"deptht\",size =8)\n",
    "    fg.map(plt.plot, 'time_counter', var).add_legend()\n",
    "    fg.set_xticklabels(rotation=-35)\n",
    "    plt.subplots_adjust(top=0.9)\n",
    "    fg.fig.suptitle(var)\n",
    "sns.set(font_scale = 1)"
   ]
  }
 ],
 "metadata": {
  "kernelspec": {
   "display_name": "Python 3",
   "language": "python",
   "name": "python3"
  },
  "language_info": {
   "codemirror_mode": {
    "name": "ipython",
    "version": 3
   },
   "file_extension": ".py",
   "mimetype": "text/x-python",
   "name": "python",
   "nbconvert_exporter": "python",
   "pygments_lexer": "ipython3",
   "version": "3.5.1"
  }
 },
 "nbformat": 4,
 "nbformat_minor": 0
}
