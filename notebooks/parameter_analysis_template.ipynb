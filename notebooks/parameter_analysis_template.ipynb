{
 "cells": [
  {
   "cell_type": "code",
   "execution_count": null,
   "metadata": {
    "collapsed": false
   },
   "outputs": [],
   "source": [
    "import numpy as np\n",
    "import xarray as xr\n",
    "import math\n",
    "import matplotlib.pyplot as plt\n",
    "import pandas as pd\n",
    "import seaborn as sns\n",
    "import os\n",
    "from salishsea_tools import metric_tools_5x5 as met\n",
    "\n",
    "%matplotlib inline\n",
    "plt.rcParams['image.cmap'] = 'jet'\n",
    "plt.rc('xtick', labelsize=20) \n",
    "plt.rc('ytick', labelsize=20) "
   ]
  },
  {
   "cell_type": "code",
   "execution_count": null,
   "metadata": {
    "collapsed": false
   },
   "outputs": [],
   "source": [
    "# Parent directory for the results of this run\n",
    "group_results_directory = 'INSERT_RESULTS_DIRECTORY' + '/'\n",
    "tracer_file = 'SS5x5_1h_20150201_20150501_ptrc_T.nc'\n",
    "mesh_mask_file = 'mesh_mask.nc'\n",
    "individual_directories = []\n",
    "param_vals = []\n",
    "param_name = \"INSERT_PARAM_NAME\"\n",
    "\n",
    "for file in os.listdir(group_results_directory):\n",
    "    if os.path.isfile(group_results_directory + file + '/' + tracer_file):\n",
    "        last_underscore = file.rfind(\"_\")\n",
    "        file_param_name = file[:last_underscore]\n",
    "        if file_param_name == param_name:\n",
    "            val = float(file[(last_underscore + 1):])\n",
    "            individual_directories.append(file)\n",
    "            param_vals.append(val)\n",
    "\n",
    "tracer_datasets = [xr.open_dataset(group_results_directory + '/' + file +'/' + tracer_file) for file in individual_directories]\n",
    "dataset_dict = dict(zip(param_vals, tracer_datasets))"
   ]
  },
  {
   "cell_type": "code",
   "execution_count": null,
   "metadata": {
    "collapsed": true
   },
   "outputs": [],
   "source": [
    "metric_func_list = [\n",
    "                    met.mean_NH4_at_depth,\n",
    "                    met.mean_NO3_at_depth,\n",
    "                    met.mean_DON_at_depth,\n",
    "                    met.mean_PON_at_depth,\n",
    "                    met.time_of_peak_PHY2,\n",
    "                    met.time_surface_NO3_drops_below_4,\n",
    "                    met.peak_3_day_biomass,\n",
    "]\n",
    "\n",
    "param_metrics = pd.DataFrame()\n",
    "\n",
    "for param_val in param_vals:\n",
    "    for metric_func in metric_func_list:\n",
    "        metric_val = metric_func(dataset_dict[param_val])\n",
    "        metric_name = metric_func.__name__\n",
    "        param_metrics = param_metrics.append(pd.DataFrame({param_name:[param_val],\n",
    "                                                           \"METRIC_NAME\":[metric_name],\n",
    "                                                           \"METRIC_VAL\": [metric_val]}))"
   ]
  },
  {
   "cell_type": "code",
   "execution_count": null,
   "metadata": {
    "collapsed": false
   },
   "outputs": [],
   "source": [
    "sns.set(font_scale = 2)\n",
    "plt.rcParams['image.cmap'] = 'jet'\n",
    "\n",
    "fg = sns.FacetGrid(data=param_metrics, col = \"METRIC_NAME\",  sharey=False, col_wrap = 2, size = 6)\n",
    "fg.set(xlim=(min(param_metrics[param_name]) - 0.1*max(param_metrics[param_name]),1.1*max(param_metrics[param_name])))\n",
    "fg.map(plt.scatter, param_name, \"METRIC_VAL\").add_legend()\n",
    "fg.set_xticklabels(rotation=-35)\n",
    "fg.set_titles(\"{col_name}\")"
   ]
  },
  {
   "cell_type": "code",
   "execution_count": null,
   "metadata": {
    "collapsed": true
   },
   "outputs": [],
   "source": [
    "def plot_tracer_heatmaps(dataset_dict, tracer, vmin = None, vmax = None):\n",
    "    plt.rcParams['image.cmap'] = 'jet'\n",
    "    keys = (list(dataset_dict.keys()))\n",
    "    keys.sort()\n",
    "\n",
    "    for param_val in keys:\n",
    "        z = dataset_dict[param_val].deptht.values\n",
    "        t = np.array([float(x) for x in dataset_dict[param_val].time_centered.values])\n",
    "        tz,zt = np.meshgrid((t[:] - t[0])/10**9/3600/24,z[:])\n",
    "\n",
    "        fig, ax = plt.subplots(1, 1,figsize=(10,4))\n",
    "        \n",
    "        mesh=plt.pcolormesh(tz,zt,dataset_dict[param_val][tracer].values[:,:,2,2].T, vmin = vmin, vmax = vmax)\n",
    "        fig.colorbar(mesh)\n",
    "        plt.gca().invert_yaxis()\n",
    "        plt.title(tracer +  \" (\" + param_name + \" = \" + str(param_val)+\")\", size = 20)\n",
    "        plt.xlabel(\"Days\", size =18)\n",
    "        plt.ylabel(\"Depth\", size = 18)\n",
    "        \n",
    "def plot_tracer_dif_heatmap(dataset_dict, tracer):\n",
    "    param_vals = list(dataset_dict.keys())\n",
    "    param_1 = min(param_vals)\n",
    "    param_2 = max(param_vals)\n",
    "    \n",
    "    z = dataset_dict[param_1].deptht.values\n",
    "    t= np.array([float(x) for x in dataset_dict[param_1].time_centered.values])\n",
    "    tz,zt=np.meshgrid((t[:] - t[0])/10**9/3600/24,z[:])\n",
    "    \n",
    "    fig, ax = plt.subplots(1, 1,figsize=(15,6))\n",
    "    mesh=plt.pcolormesh(tz,zt,dataset_dict[param_1][tracer].values[:,:,2,2].T - dataset_dict[param_2][tracer].values[:,:,2,2].T)\n",
    "    fig.colorbar(mesh)\n",
    "    plt.gca().invert_yaxis()\n",
    "    plt.xlabel(\"Days\", size =18)\n",
    "    plt.ylabel(\"Depth\", size = 18)\n",
    "    plt.title(tracer + \" difference (\" + param_name + \"=\" + str(param_1) + \" - \" + param_name + \"=\" +str(param_2)+ \")\")\n"
   ]
  },
  {
   "cell_type": "code",
   "execution_count": null,
   "metadata": {
    "collapsed": false
   },
   "outputs": [],
   "source": [
    "plot_tracer_heatmaps(dataset_dict, \"PHY2\", 0, 1.8)\n",
    "plot_tracer_dif_heatmap(dataset_dict, \"PHY2\")"
   ]
  },
  {
   "cell_type": "code",
   "execution_count": null,
   "metadata": {
    "collapsed": false
   },
   "outputs": [],
   "source": [
    "plot_tracer_heatmaps(dataset_dict, \"NO3\", 0, 32)\n",
    "plot_tracer_dif_heatmap(dataset_dict, \"NO3\")"
   ]
  },
  {
   "cell_type": "code",
   "execution_count": null,
   "metadata": {
    "collapsed": false
   },
   "outputs": [],
   "source": [
    "plot_tracer_heatmaps(dataset_dict, \"NH4\", 0, 2.7)\n",
    "plot_tracer_dif_heatmap(dataset_dict, \"NH4\")"
   ]
  },
  {
   "cell_type": "code",
   "execution_count": null,
   "metadata": {
    "collapsed": true
   },
   "outputs": [],
   "source": [
    "plot_tracer_heatmaps(dataset_dict, \"DOC\", 0, 10)\n",
    "plot_tracer_dif_heatmap(dataset_dict, \"DOC\")"
   ]
  },
  {
   "cell_type": "code",
   "execution_count": null,
   "metadata": {
    "collapsed": true
   },
   "outputs": [],
   "source": [
    "plot_tracer_heatmaps(dataset_dict, \"POC\", 0, 2.7)\n",
    "plot_tracer_dif_heatmap(dataset_dict, \"POC\")"
   ]
  },
  {
   "cell_type": "code",
   "execution_count": null,
   "metadata": {
    "collapsed": false
   },
   "outputs": [],
   "source": [
    "# Convert list of xarrays to a single pandas dataframe\n",
    "keys = (list(dataset_dict.keys()))\n",
    "keys.sort()\n",
    "\n",
    "dataframe_list = []\n",
    "for param_val in keys:\n",
    "    df = dataset_dict[param_val].to_dataframe().query('x == 2 and y == 2 and axis_nbounds == 0')\n",
    "    df[param_name] = param_val\n",
    "    dataframe_list.append(df)\n",
    "\n",
    "df_subset = pd.concat(dataframe_list)\n",
    "\n",
    "df_subset.reset_index(inplace=True) # Get rid of that multiindex madness"
   ]
  },
  {
   "cell_type": "code",
   "execution_count": null,
   "metadata": {
    "collapsed": false
   },
   "outputs": [],
   "source": [
    "plot_vars = ['PHY', 'PHY2','MICZ', 'MYRI', 'NO3', 'NH4', 'DOC', 'POC', 'Si', 'bSi', 'O2']"
   ]
  },
  {
   "cell_type": "code",
   "execution_count": null,
   "metadata": {
    "collapsed": false
   },
   "outputs": [],
   "source": [
    "sns.set(font_scale = 3)\n",
    "plt.rcParams['image.cmap'] = 'jet'\n",
    "\n",
    "depth_vals = (df_subset['deptht'].unique())[[0,15,26,34]]\n",
    "\n",
    "print(depth_vals)\n",
    "for var in plot_vars:\n",
    "    fg = sns.FacetGrid(data=df_subset.query(\"deptht in @depth_vals\"), hue=param_name,col = \"deptht\",size = 8)\n",
    "    fg.map(plt.plot, 'time_counter', var).add_legend()\n",
    "    fg.set_xticklabels(rotation=-35)\n",
    "    plt.subplots_adjust(top=0.9)\n",
    "    fg.fig.suptitle(var)"
   ]
  }
 ],
 "metadata": {
  "kernelspec": {
   "display_name": "Python 3",
   "language": "python",
   "name": "python3"
  },
  "language_info": {
   "codemirror_mode": {
    "name": "ipython",
    "version": 3
   },
   "file_extension": ".py",
   "mimetype": "text/x-python",
   "name": "python",
   "nbconvert_exporter": "python",
   "pygments_lexer": "ipython3",
   "version": "3.5.2"
  }
 },
 "nbformat": 4,
 "nbformat_minor": 0
}
