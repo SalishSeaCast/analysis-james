{
 "cells": [
  {
   "cell_type": "code",
   "execution_count": 1,
   "metadata": {
    "collapsed": true
   },
   "outputs": [],
   "source": [
    "# Copyright 2013-2016 The Salish Sea NEMO Project and\n",
    "# The University of British Columbia\n",
    "\n",
    "# Licensed under the Apache License, Version 2.0 (the \"License\");\n",
    "# you may not use this file except in compliance with the License.\n",
    "# You may obtain a copy of the License at\n",
    "\n",
    "#    http://www.apache.org/licenses/LICENSE-2.0\n",
    "\n",
    "# Unless required by applicable law or agreed to in writing, software\n",
    "# distributed under the License is distributed on an \"AS IS\" BASIS,\n",
    "# WITHOUT WARRANTIES OR CONDITIONS OF ANY KIND, either express or implied.\n",
    "# See the License for the specific language governing permissions and\n",
    "# limitations under the License."
   ]
  },
  {
   "cell_type": "code",
   "execution_count": 2,
   "metadata": {
    "collapsed": false
   },
   "outputs": [
    {
     "data": {
      "text/plain": [
       "'Functions for working with geographical data and model results.\\n'"
      ]
     },
     "execution_count": 2,
     "metadata": {},
     "output_type": "execute_result"
    }
   ],
   "source": [
    "\"\"\"Functions for working with geographical data and model results.\n",
    "\"\"\""
   ]
  },
  {
   "cell_type": "code",
   "execution_count": 3,
   "metadata": {
    "collapsed": false
   },
   "outputs": [],
   "source": [
    "import numpy as np\n",
    "import matplotlib.pyplot as plt\n",
    "from salishsea_tools import tidetools\n",
    "import netCDF4 as nc\n",
    "import pdb\n",
    "import pandas as pd\n",
    "import xarray as xr\n",
    "%matplotlib inline"
   ]
  },
  {
   "cell_type": "code",
   "execution_count": 4,
   "metadata": {
    "collapsed": true
   },
   "outputs": [],
   "source": [
    "def distance_along_curve(lons, lats):\n",
    "    \"\"\"Calculate cumulative distance in km between points in lons, lats\n",
    "\n",
    "    :arg lons: 1D array of longitude points.\n",
    "    :type lons: :py:class:`numpy.ndarray`\n",
    "\n",
    "    :arg lats: 1D array of latitude points.\n",
    "    :type lats: :py:class:`numpy.ndarray`\n",
    "\n",
    "    :returns: Cummulative point-by-point distance along track in km.\n",
    "    :rtype: :py:class:`numpy.ndarray`\n",
    "    \"\"\"\n",
    "    dist = np.cumsum(haversine(lons[1:], lats[1:], lons[:-1], lats[:-1]))\n",
    "    return np.insert(dist, 0, 0)"
   ]
  },
  {
   "cell_type": "code",
   "execution_count": 5,
   "metadata": {
    "collapsed": true
   },
   "outputs": [],
   "source": [
    "def haversine(lon1, lat1, lon2, lat2):\n",
    "    \"\"\"Calculate the great-circle distance in kilometers between two points\n",
    "    on a sphere from their longitudes and latitudes.\n",
    "\n",
    "    Reference: http://www.movable-type.co.uk/scripts/latlong.html\n",
    "\n",
    "    :arg lon1: Longitude of point 1.\n",
    "    :type lon1: float or :py:class:`numpy.ndarray`\n",
    "\n",
    "    :arg lat1: Latitude of point 1.\n",
    "    :type lat1: float or :py:class:`numpy.ndarray`\n",
    "\n",
    "    :arg lon2: Longitude of point 2.\n",
    "    :type lon2: float or :py:class:`numpy.ndarray`\n",
    "\n",
    "    :arg lat2: Latitude of point 2.\n",
    "    :type lat2: float or :py:class:`numpy.ndarray`\n",
    "\n",
    "    :returns: Great-circle distance between two points in km\n",
    "    :rtype: float or :py:class:`numpy.ndarray`\n",
    "    \"\"\"\n",
    "    lon1, lat1, lon2, lat2 = map(np.radians, [lon1, lat1, lon2, lat2])\n",
    "    dlon = lon2 - lon1\n",
    "    dlat = lat2 - lat1\n",
    "    a = np.sin(dlat/2)**2 + np.cos(lat1) * np.cos(lat2) * np.sin(dlon/2)**2\n",
    "    c = 2 * np.arcsin(np.sqrt(a))\n",
    "    km = 6367 * c\n",
    "    return km"
   ]
  },
  {
   "cell_type": "code",
   "execution_count": 12,
   "metadata": {
    "collapsed": false
   },
   "outputs": [],
   "source": [
    "def _spiral_search_for_closest_water_point(\n",
    "    j, i, land_mask, lon, lat, model_lons, model_lats\n",
    "):\n",
    "    # Searches in a spiral pattern around grid element (j,i)\n",
    "    # for the closest water point to the the coordinate (lat,lon)\n",
    "\n",
    "    jmax, imax = land_mask.shape\n",
    "    # Limit on size of grid search\n",
    "    max_search_dist = int(model_lats.shape[1]/4)\n",
    "    closest_point = None\n",
    "    j_s, i_s = j, i  # starting points is j, i\n",
    "    dj, di = 0, -1\n",
    "    # move j_s, i_s in a square spiral centred at j, i\n",
    "    while (i_s-i) <= max_search_dist:\n",
    "        if any([(j_s-j) == (i_s-i),\n",
    "               ((j_s-j) < 0 and (j_s-j) == -(i_s-i)),\n",
    "               ((j_s-j) > 0 and (j_s-j) == 1-(i_s-i))]):\n",
    "            # Hit the corner of the spiral- change direction\n",
    "            dj, di = -di, dj\n",
    "        i_s, j_s = i_s+di, j_s+dj  # Take a step to next square\n",
    "        if all([i_s >= 0,\n",
    "               i_s < imax, j_s >= 0,\n",
    "               j_s < jmax,\n",
    "               not land_mask[j_s, i_s]]\n",
    "               ):\n",
    "            # Found a water point, how close is it?\n",
    "            actual_dist = haversine(\n",
    "                lon, lat, model_lons[j_s, i_s], model_lats[j_s, i_s])\n",
    "            if closest_point is None:\n",
    "                min_dist = actual_dist\n",
    "                closest_point = (j_s, i_s)\n",
    "            elif actual_dist < min_dist:\n",
    "                # Keep record of closest point\n",
    "                min_dist = actual_dist\n",
    "                closest_point = (j_s, i_s)\n",
    "            # Assumes grids are square- reduces search radius to only\n",
    "            # check grids that could potentially be closer than this\n",
    "            grid_dist = int(((i_s-i)**2 + (j_s-j)**2)**0.5)\n",
    "            if (grid_dist + 1) < max_search_dist:\n",
    "                # Reduce stopping distance for spiral-\n",
    "                # just need to check that no points closer than this one\n",
    "                max_search_dist = grid_dist + 1\n",
    "    if closest_point is not None:\n",
    "        return closest_point\n",
    "    else:\n",
    "        raise ValueError('lat/lon on land and no nearby water point found')\n",
    "\n",
    "\n",
    "\n",
    "\n",
    "\n",
    "\n",
    "\n",
    "\n",
    "def find_closest_model_point(\n",
    "    lon, lat, model_lons, model_lats, grid='NEMO', land_mask=None,\n",
    "    tols={\n",
    "        'NEMO': {'tol_lon': 0.0104, 'tol_lat': 0.00388},\n",
    "        'GEM2.5': {'tol_lon': 0.016, 'tol_lat': 0.011},\n",
    "        }\n",
    "):\n",
    "    \"\"\"Returns the grid coordinates of the closest model point\n",
    "    to a specified lon/lat. If land_mask is provided, returns the closest\n",
    "    water point.\n",
    "\n",
    "    Example:\n",
    "\n",
    "    .. code-block:: python\n",
    "    j, i = find_closest_model_point(\n",
    "        -125.5,49.2,model_lons,model_lats,land_mask=bathy.mask)\n",
    "\n",
    "    where bathy, model_lons and model_lats are returned from\n",
    "    :py:func:`salishsea_tools.tidetools.get_bathy_data`.\n",
    "\n",
    "    j is the y-index(latitude), i is the x-index(longitude)\n",
    "\n",
    "    :arg float lon: longitude to find closest grid point to\n",
    "\n",
    "    :arg float lat: latitude to find closest grid point to\n",
    "\n",
    "    :arg model_lons: specified model longitude grid\n",
    "    :type model_lons: :py:obj:`numpy.ndarray`\n",
    "\n",
    "    :arg model_lats: specified model latitude grid\n",
    "    :type model_lats: :py:obj:`numpy.ndarray`\n",
    "\n",
    "    :arg grid: specify which default lon/lat tolerances\n",
    "    :type grid: string\n",
    "\n",
    "    :arg land_mask: describes which grid coordinates are land\n",
    "    :type land_mask: numpy array\n",
    "\n",
    "    :arg tols: stored default tols for different grid types\n",
    "    :type tols: dict\n",
    "\n",
    "    :returns: yind, xind\n",
    "    \"\"\"\n",
    "\n",
    "    if grid not in tols:\n",
    "        raise KeyError('The provided grid type is not in tols.\\\n",
    "                        Use another grid type or add your grid type to tols.')\n",
    "\n",
    "    # Search for a grid point with longitude and latitude within\n",
    "    # tolerance of measured location\n",
    "    j_list, i_list = np.where(\n",
    "        np.logical_and(\n",
    "            (np.logical_and(model_lons > lon - tols[grid]['tol_lon'],\n",
    "                            model_lons < lon + tols[grid]['tol_lon'])),\n",
    "            (np.logical_and(model_lats > lat - tols[grid]['tol_lat'],\n",
    "                            model_lats < lat + tols[grid]['tol_lat']))\n",
    "        )\n",
    "    )\n",
    "\n",
    "    if len(j_list) == 0:\n",
    "        raise ValueError(\n",
    "            'No model point found. tol_lon/tol_lat too small or '\n",
    "            'lon/lat outside of domain.')\n",
    "    try:\n",
    "        j, i = map(np.asscalar, (j_list, i_list))\n",
    "    except ValueError:\n",
    "        # Several points within tolerance\n",
    "        # Calculate distances for all and choose the closest\n",
    "        test_lons = [model_lons[j_list[n], i_list[n]] for n in range(len(j_list))]\n",
    "        test_lats = [model_lats[j_list[n], i_list[n]] for n in range(len(j_list))]\n",
    "        dists = haversine(\n",
    "            np.array([lon] * i_list.size), np.array([lat] * j_list.size),\n",
    "            test_lons, model_lats[j_list, i_list])\n",
    "        n = dists.argmin()\n",
    "        j, i = map(np.asscalar, (j_list[n], i_list[n]))\n",
    "\n",
    "    # If point is on land and land mask is provided\n",
    "    # try to find closest water point\n",
    "    if land_mask is None or not land_mask[j, i]:\n",
    "        return j, i\n",
    "    try:\n",
    "        return _spiral_search_for_closest_water_point(\n",
    "            j, i, land_mask, lon, lat, model_lons, model_lats)\n",
    "    except ValueError:\n",
    "        raise ValueError(\n",
    "            'lat/lon on land and no nearby water point found')\n"
   ]
  },
  {
   "cell_type": "code",
   "execution_count": 47,
   "metadata": {
    "collapsed": true
   },
   "outputs": [],
   "source": [
    "def find_model_point(lon, lat, X, Y, tol_lon=0.016, tol_lat=0.011):\n",
    "    \"\"\"Finds a model grid point close to a specified latitude and longitude.\n",
    "    Should be used for non-NEMO grids like the atmospheric forcing grid.\n",
    "\n",
    "    :arg lon: The longitude we are trying to match.\n",
    "    :type lon: float\n",
    "\n",
    "    :arg lat: The latitude we are trying to match.\n",
    "    :type lat: float\n",
    "\n",
    "    :arg X: The model longitude grid.\n",
    "    :type X: numpy array\n",
    "\n",
    "    :arg Y: The model latitude grid.\n",
    "    :type Y: numpy array\n",
    "\n",
    "    :arg tol_lon: tolerance on grid spacing for longitude\n",
    "    :type tol_lon: float\n",
    "\n",
    "    :arg tol_lat: tolerance on grid spacing for latitude\n",
    "    :type tol_lat: float\n",
    "\n",
    "    :returns: j-index and i-index of the closest model grid point.\n",
    "    \"\"\"\n",
    "\n",
    "    # Search for a grid point with longitude or latitude within\n",
    "    # tolerance of measured location\n",
    "    j, i = np.where(\n",
    "        np.logical_and(\n",
    "            (np.logical_and(X > lon - tol_lon, X < lon + tol_lon)),\n",
    "            (np.logical_and(Y > lat - tol_lat, Y < lat + tol_lat))))\n",
    "\n",
    "    if j.size > 1 or i.size > 1:\n",
    "        raise ValueError(\n",
    "            'Multiple model points found. tol_lon/tol_lat too big.'\n",
    "        )\n",
    "    elif not j or not i:\n",
    "        raise ValueError(\n",
    "            'No model point found. tol_lon/tol_lat too small or '\n",
    "            'lon/lat outside of domain.'\n",
    "        )\n",
    "    return j, i"
   ]
  },
  {
   "cell_type": "code",
   "execution_count": 2,
   "metadata": {
    "collapsed": true
   },
   "outputs": [],
   "source": [
    "def find_closest_model_point(lon, lat, X, Y, bathy, lon_tol=0.0052,\n",
    "                             lat_tol=0.00189, allow_land=False):\n",
    "    \"\"\"Returns the grid co-ordinates of the closest non-land model point\n",
    "    to a specified lon/lat.\n",
    "\n",
    "    e.g. yind, xind = find_closest_model_point(-125.5,49.2,X,Y,bathy)\n",
    "    where bathy, X and Y are returned from get_bathy_data(grid).\n",
    "    yind is the y-index(latitude), xind is the x-index(longitude)\n",
    "\n",
    "    :arg lon: specified longitude\n",
    "    :type lon: float\n",
    "\n",
    "    :arg lat: specified latitude\n",
    "    :type lat: float\n",
    "\n",
    "    :arg X: specified model longitude\n",
    "    :type X: numpy array\n",
    "\n",
    "    :arg Y: specified model latitude\n",
    "    :type Y: numpy array\n",
    "\n",
    "    :arg bathy: model bathymetry\n",
    "    :type bathy: numpy array\n",
    "\n",
    "    :arg lon_tol: tolerance value for seaching in longitude\n",
    "    :type lon_tol: float\n",
    "\n",
    "    :arg lat_tol: tolerance value for searching in latitude\n",
    "    :type lat_tol: float\n",
    "\n",
    "    :arg allow_land: whether code should return a land point or closest\n",
    "                     water point\n",
    "    :type allow_land: boolean\n",
    "\n",
    "    :returns: yind, xind\n",
    "    \"\"\"\n",
    "    # Tolerance for searching for grid points\n",
    "    # (default is approx. distances between adjacent grid points)\n",
    "    tol1 = lon_tol   # lon\n",
    "    tol2 = lat_tol   # lat\n",
    "\n",
    "    # Search for a grid point with lon/lat within tolerance of\n",
    "    # measured location\n",
    "    x1, y1 = np.where(\n",
    "        np.logical_and(\n",
    "            (np.logical_and(X > lon-tol1, X < lon+tol1)),\n",
    "            (np.logical_and(Y > lat-tol2, Y < lat+tol2))))\n",
    "\n",
    "    # check size of arrays so we don't go out of bounds in our search\n",
    "    xmax, ymax = bathy.shape\n",
    "    if np.size(x1) != 0:\n",
    "        x1 = x1[0]\n",
    "        y1 = y1[0]\n",
    "        # What if more than one point is returned from this search?\n",
    "        # Just take the first one...\n",
    "        #\n",
    "        # If x1,y1 is masked, search 3x3 grid around.\n",
    "        # If all those points are masked, search 4x4 grid around, etc.\n",
    "        for ii in np.arange(1, 100):\n",
    "            if bathy.mask[x1, y1] and not allow_land:\n",
    "                for i in np.arange(max(0, x1-ii), min(xmax, x1+ii+1)):\n",
    "                    for j in np.arange(max(0, y1-ii), min(ymax, y1+ii+1)):\n",
    "                        if not bathy.mask[i, j]:\n",
    "                            break\n",
    "                    if not bathy.mask[i, j]:\n",
    "                        break\n",
    "                if not bathy.mask[i, j]:\n",
    "                    break\n",
    "            else:\n",
    "                i = x1\n",
    "                j = y1\n",
    "    else:\n",
    "            i = []\n",
    "            j = []\n",
    "    return i, j"
   ]
  },
  {
   "cell_type": "code",
   "execution_count": 7,
   "metadata": {
    "collapsed": false
   },
   "outputs": [],
   "source": [
    "grid_B = nc.Dataset('/data/nsoontie/MEOPAR/NEMO-forcing/grid/bathy_meter_SalishSea2.nc')\n",
    "bathy, X, Y = tidetools.get_bathy_data(grid_B)"
   ]
  },
  {
   "cell_type": "code",
   "execution_count": 13,
   "metadata": {
    "collapsed": false
   },
   "outputs": [
    {
     "name": "stdout",
     "output_type": "stream",
     "text": [
      "(403, 46)\n"
     ]
    },
    {
     "data": {
      "text/plain": [
       "<matplotlib.collections.PathCollection at 0x7f6a49d2bd68>"
      ]
     },
     "execution_count": 13,
     "metadata": {},
     "output_type": "execute_result"
    },
    {
     "data": {
      "image/png": "[encoded data removed]",
      "text/plain": [
       "<matplotlib.figure.Figure at 0x7f6a5034dda0>"
      ]
     },
     "metadata": {},
     "output_type": "display_data"
    }
   ],
   "source": [
    "#### print(find_closest_model_point(-124, 48, model_lons = X, model_lats = Y, grid = 'Test', tols = {\"Test\":{'tol_lat':0.002658843994140625, 'tol_lon':0.0009403228759765625}}, land_mask = bathy.mask))\n",
    "lon, lat = -124.5, 48.538\n",
    "#closest_point = find_model_point(lon, lat, X,  Y, tol_lon = 0.0052, tol_lat = 0.00189)\n",
    "closest_point = find_closest_model_point(lon, lat, model_lons = X, model_lats = Y, grid = 'NEMO', land_mask = bathy.mask)\n",
    "print(closest_point)\n",
    "\n",
    "r1 = max(0, closest_point[0] - 5)\n",
    "r2 = min(897, closest_point[0] + 5)\n",
    "c1 = max(0, closest_point[1] - 5)\n",
    "c2 = min(397, closest_point[1] + 5)\n",
    "\n",
    "fig, ax = plt.subplots(1, 1,figsize=(15,15))\n",
    "#plt.pcolormesh(X[r1:r2,c1:c2],Y[r1:r2,c1:c2], (bathy.mask).astype('int')[r1:r2,c1:c2])\n",
    "#plt.pcolormesh(X, Y, (bathy.mask).astype('int'))\n",
    "\n",
    "plt.scatter([X[closest_point]], [Y[closest_point]], c = \"c\" , s =40)\n",
    "#plt.scatter([X[109,143]], [Y[109,143]], c = \"c\" , s =40)\n",
    "plt.scatter(X[r1:r2,c1:c2],Y[r1:r2,c1:c2], np.invert(bathy.mask)[r1:r2,c1:c2])\n",
    "plt.scatter([lon], [lat], c = \"r\" , s =80)"
   ]
  },
  {
   "cell_type": "code",
   "execution_count": 14,
   "metadata": {
    "collapsed": false
   },
   "outputs": [
    {
     "data": {
      "text/plain": [
       "<matplotlib.collections.PathCollection at 0x7f6a49d00898>"
      ]
     },
     "execution_count": 14,
     "metadata": {},
     "output_type": "execute_result"
    },
    {
     "data": {
      "image/png": "[encoded data removed]",
      "text/plain": [
       "<matplotlib.figure.Figure at 0x7f6a49cca358>"
      ]
     },
     "metadata": {},
     "output_type": "display_data"
    }
   ],
   "source": [
    "lon, lat = -123.4085, 46.91\n",
    "tol_lon, tol_lat = 0.0052, 0.00189\n",
    "fig, ax = plt.subplots(1, 1,figsize=(15,15))\n",
    "plt.scatter(X[6:12,6:12],Y[6:12,6:12], s =3 )\n",
    "#plt.scatter([lon], [lat], c = \"w\" , s =80)\n",
    "#plt.scatter([X[tuple(reversed(closest_point))]], [Y[tuple(reversed(closest_point))]], c = \"c\" , s =40)\n",
    "#plt.scatter([X[109,143]], [Y[109,143]], c = \"c\" , s =40)\n",
    "plt.plot([lon + tol_lon, lon + tol_lon, lon - tol_lon, lon - tol_lon,lon + tol_lon],\n",
    "        [lat - tol_lat, lat + tol_lat, lat + tol_lat, lat - tol_lat,lat - tol_lat])\n",
    "plt.scatter([lon],[lat], s= 14, color = 'r')"
   ]
  },
  {
   "cell_type": "code",
   "execution_count": 15,
   "metadata": {
    "collapsed": false
   },
   "outputs": [
    {
     "data": {
      "text/plain": [
       "<matplotlib.collections.PathCollection at 0x7f6a49c759e8>"
      ]
     },
     "execution_count": 15,
     "metadata": {},
     "output_type": "execute_result"
    },
    {
     "data": {
      "image/png": "[encoded data removed]",
      "text/plain": [
       "<matplotlib.figure.Figure at 0x7f6a5000d470>"
      ]
     },
     "metadata": {},
     "output_type": "display_data"
    }
   ],
   "source": [
    "fig, ax = plt.subplots(1, 1,figsize=(15,15))\n",
    "r1,r2,c1,c2 = 0,200,0,200\n",
    "plt.pcolormesh(X[r1:r2,c1:c2],Y[r1:r2,c1:c2], (bathy.mask).astype('int')[r1:r2,c1:c2])\n",
    "plt.scatter([X[20,40]], [Y[20,40]], c = \"w\" , s =80)\n",
    "\n",
    "lat = 47.5\n",
    "lon = -123.7\n",
    "\n",
    "model_lons = X\n",
    "model_lats = Y\n",
    "grid = 'NEMO'\n",
    "tols={'NEMO': {'tol_lon':0.0104, 'tol_lat':0.00388}}\n",
    "i_list, j_list = np.where(\n",
    "    np.logical_and(\n",
    "        (np.logical_and(model_lons > lon - tols[grid]['tol_lon'], model_lons < lon + tols[grid]['tol_lon'])),\n",
    "        (np.logical_and(model_lats > lat - tols[grid]['tol_lat'], model_lats < lat + tols[grid]['tol_lat']))))\n",
    "plt.scatter([X[20,40]], [Y[20,40]], c = \"w\" , s =80)"
   ]
  },
  {
   "cell_type": "code",
   "execution_count": 74,
   "metadata": {
    "collapsed": false
   },
   "outputs": [
    {
     "name": "stdout",
     "output_type": "stream",
     "text": [
      "(array([148]), array([139]))\n"
     ]
    }
   ],
   "source": [
    "atmos_grid = xr.open_dataset('https://salishsea.eos.ubc.ca/erddap/griddap/ubcSSaAtmosphereGridV1')\n",
    "#print(atmos_grid)\n",
    "nemo_lon_lat = [-123.7665023803711,49.30873107910156]\n",
    "\n",
    "atmos_ji = find_closest_model_point(\n",
    "    nemo_lon_lat[0], nemo_lon_lat[1],\n",
    "    atmos_grid.longitude.values - 360, atmos_grid.latitude.values,\n",
    "    grid = \"GEM2.5\")\n",
    "print(atmos_ji)"
   ]
  },
  {
   "cell_type": "code",
   "execution_count": 14,
   "metadata": {
    "collapsed": false
   },
   "outputs": [],
   "source": [
    "model_lons = X\n",
    "model_lats = Y\n",
    "\n",
    "tols={\n",
    "    'NEMO': {'tol_lon': 0.0104, 'tol_lat': 0.00388},\n",
    "    'GEM2.5': {'tol_lon': 0.016, 'tol_lat': 0.011},\n",
    "    }\n",
    "\n",
    "grid = 'NEMO'\n",
    "land_mask = bathy.mask\n",
    "j_list, i_list = np.where(\n",
    "    np.logical_and(\n",
    "        (np.logical_and(model_lons > lon - tols[grid]['tol_lon'], model_lons < lon + tols[grid]['tol_lon'])),\n",
    "        (np.logical_and(model_lats > lat - tols[grid]['tol_lat'], model_lats < lat + tols[grid]['tol_lat']))))\n",
    "if len(j_list) == 0:\n",
    "    raise ValueError(\n",
    "        'No model point found. tol_lon/tol_lat too small or '\n",
    "        'lon/lat outside of domain.')\n",
    "try:\n",
    "    j, i = map(np.asscalar, (j_list, i_list))\n",
    "except ValueError:\n",
    "    # Several points within tolerance\n",
    "    # Calculate distances for all and choose the closest\n",
    "    dists = haversine(\n",
    "        np.array([lon] * i_list.size), np.array([lat] * j_list.size),\n",
    "        model_lons[j_list, i_list], model_lats[j_list, i_list])\n",
    "    n = dists.argmin()\n",
    "    i, j = map(np.asscalar, (i_list[n], j_list[n]))"
   ]
  },
  {
   "cell_type": "code",
   "execution_count": 11,
   "metadata": {
    "collapsed": false
   },
   "outputs": [
    {
     "data": {
      "text/plain": [
       "numpy.ndarray"
      ]
     },
     "execution_count": 11,
     "metadata": {},
     "output_type": "execute_result"
    }
   ],
   "source": [
    "type(X)"
   ]
  }
 ],
 "metadata": {
  "kernelspec": {
   "display_name": "Python 3",
   "language": "python",
   "name": "python3"
  },
  "language_info": {
   "codemirror_mode": {
    "name": "ipython",
    "version": 3
   },
   "file_extension": ".py",
   "mimetype": "text/x-python",
   "name": "python",
   "nbconvert_exporter": "python",
   "pygments_lexer": "ipython3",
   "version": "3.5.1"
  }
 },
 "nbformat": 4,
 "nbformat_minor": 0
}
