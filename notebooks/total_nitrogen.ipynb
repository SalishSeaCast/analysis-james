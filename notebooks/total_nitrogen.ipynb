{
 "cells": [
  {
   "cell_type": "code",
   "execution_count": 69,
   "metadata": {
    "collapsed": true
   },
   "outputs": [],
   "source": [
    "import numpy as np\n",
    "import xarray as xr\n",
    "import matplotlib.pyplot as plt\n",
    "\n",
    "%matplotlib inline"
   ]
  },
  {
   "cell_type": "code",
   "execution_count": 88,
   "metadata": {
    "collapsed": true
   },
   "outputs": [],
   "source": [
    "result_directory = '/data/jpetrie/MEOPAR/SalishSea/results/remin_param_sweep_new_depth/nampisrem_zz_remin_D_PON_1.4512018923044442e-06/'\n",
    "tracer_file = 'SS5x5_1h_20150201_20150501_ptrc_T.nc'\n",
    "mesh_mask_file = 'mesh_mask.nc'"
   ]
  },
  {
   "cell_type": "code",
   "execution_count": 89,
   "metadata": {
    "collapsed": true
   },
   "outputs": [],
   "source": [
    "tracer_dataset = xr.open_dataset(result_directory + tracer_file)\n",
    "mesh_mask = xr.open_dataset(result_directory + mesh_mask_file)"
   ]
  },
  {
   "cell_type": "code",
   "execution_count": 90,
   "metadata": {
    "collapsed": false
   },
   "outputs": [],
   "source": [
    "nitrogen_tracers = ['NO3','NH4','DOC','POC','PHY','PHY2','MICZ','MYRI']\n",
    "\n",
    "tracer_sum = np.zeros(tracer_dataset[nitrogen_tracers[0]].values.shape)\n",
    "\n",
    "for tracer in nitrogen_tracers:\n",
    "    tracer_sum = tracer_sum + tracer_dataset[tracer].values\n",
    "# tracer_sum now contains total nitrogen concentration by t,z,y,x"
   ]
  },
  {
   "cell_type": "code",
   "execution_count": 91,
   "metadata": {
    "collapsed": false
   },
   "outputs": [],
   "source": [
    "# Sum across x and y coordinates. Gives 2D array with nitrogen concentration by time and depth\n",
    "x_y_summed = np.sum(np.sum(tracer_sum,axis = 3),axis=2)"
   ]
  },
  {
   "cell_type": "code",
   "execution_count": 92,
   "metadata": {
    "collapsed": false
   },
   "outputs": [],
   "source": [
    "# A vector with the height of each grid element\n",
    "grid_heights = np.array(mesh_mask['e3t_1d'][0])\n",
    "\n",
    "# 2D array (time,depth) with the total quantity of nitrogen for that time and depth\n",
    "grid_scaled = np.multiply(grid_heights,x_y_summed)\n",
    "\n",
    "# Total nitrogen by time only (1D array)\n",
    "depth_summed = np.sum(grid_scaled,axis = 1)"
   ]
  },
  {
   "cell_type": "code",
   "execution_count": 97,
   "metadata": {
    "collapsed": false
   },
   "outputs": [
    {
     "data": {
      "text/plain": [
       "<matplotlib.text.Text at 0x7f6db7279358>"
      ]
     },
     "execution_count": 97,
     "metadata": {},
     "output_type": "execute_result"
    },
    {
     "data": {
      "image/png": "[encoded data removed]",
      "text/plain": [
       "<matplotlib.figure.Figure at 0x7f6db72464a8>"
      ]
     },
     "metadata": {},
     "output_type": "display_data"
    }
   ],
   "source": [
    "plt.plot(range(len(depth_summed)),depth_summed)\n",
    "plt.ylabel(\"Total Nitrogen\")\n",
    "plt.xlabel(\"Time Index\")\n",
    "plt.title(\"5x5 Total Nitrogen vs. Time\")"
   ]
  }
 ],
 "metadata": {
  "kernelspec": {
   "display_name": "Python 3",
   "language": "python",
   "name": "python3"
  },
  "language_info": {
   "codemirror_mode": {
    "name": "ipython",
    "version": 3
   },
   "file_extension": ".py",
   "mimetype": "text/x-python",
   "name": "python",
   "nbconvert_exporter": "python",
   "pygments_lexer": "ipython3",
   "version": "3.5.1"
  }
 },
 "nbformat": 4,
 "nbformat_minor": 0
}
