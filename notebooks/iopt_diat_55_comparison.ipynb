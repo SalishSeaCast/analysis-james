{
 "cells": [
  {
   "cell_type": "code",
   "execution_count": 1,
   "metadata": {
    "collapsed": false
   },
   "outputs": [
    {
     "name": "stdout",
     "output_type": "stream",
     "text": [
      "Once deleted, variables cannot be recovered. Proceed (y/[n])? y\n"
     ]
    }
   ],
   "source": [
    "%reset\n",
    "import numpy as np\n",
    "import pandas as pd\n",
    "import matplotlib.pyplot as plt\n",
    "import seaborn as sns\n",
    "import xarray as xr\n",
    "\n",
    "%matplotlib inline\n",
    "plt.rcParams['image.cmap'] = 'jet'"
   ]
  },
  {
   "cell_type": "code",
   "execution_count": 2,
   "metadata": {
    "collapsed": false
   },
   "outputs": [],
   "source": [
    "nowcast_tracer_path = \"/results/SalishSea/nowcast-green/12apr16/SalishSea_1h_20160412_20160412_ptrc_T.nc\"\n",
    "diat_iopt_84_tracer_path = \"/data/jpetrie/MEOPAR/SalishSea/results/full_domain/apr12_double_iopt_diat/SalishSea_1h_20160412_20160412_ptrc_T.nc\"\n",
    "diat_iopt_55_tracer_path = \"/data/jpetrie/MEOPAR/SalishSea/results/full_domain/april12_55_iopt_diat/SalishSea_1h_20160412_20160412_ptrc_T.nc\"\n",
    "\n",
    "n_grid_t = xr.open_dataset(nowcast_tracer_path)\n",
    "#m_grid_t = xr.open_dataset(diat_iopt_84_tracer_path)\n",
    "m_grid_t = xr.open_dataset(diat_iopt_55_tracer_path)"
   ]
  },
  {
   "cell_type": "code",
   "execution_count": 6,
   "metadata": {
    "collapsed": false
   },
   "outputs": [
    {
     "data": {
      "text/plain": [
       "<xarray.DataArray 'votemper' (time_counter: 24, deptht: 40, y: 898, x: 398)>\n",
       "[343107840 values with dtype=float64]\n",
       "Coordinates:\n",
       "  * deptht         (deptht) float32 0.5 1.5 2.50001 3.50003 4.50007 5.50015 ...\n",
       "    nav_lat        (y, x) float32 46.8597 46.8615 46.8634 46.8653 46.8672 ...\n",
       "    nav_lon        (y, x) float32 -123.429 -123.424 -123.419 -123.413 ...\n",
       "    time_centered  (time_counter) datetime64[ns] 2016-04-12T00:30:00 ...\n",
       "  * time_counter   (time_counter) datetime64[ns] 2016-04-12T00:30:00 ...\n",
       "  * x              (x) int64 0 1 2 3 4 5 6 7 8 9 10 11 12 13 14 15 16 17 18 ...\n",
       "  * y              (y) int64 0 1 2 3 4 5 6 7 8 9 10 11 12 13 14 15 16 17 18 ...\n",
       "Attributes:\n",
       "    standard_name: sea_water_potential_temperature\n",
       "    long_name: temperature\n",
       "    units: degC\n",
       "    online_operation: average\n",
       "    interval_operation: 40 s\n",
       "    interval_write: 1 h\n",
       "    cell_methods: time: mean (interval: 40 s)\n",
       "    cell_measures: area: area"
      ]
     },
     "execution_count": 6,
     "metadata": {},
     "output_type": "execute_result"
    }
   ],
   "source": [
    "n_grid_t.votemper"
   ]
  },
  {
   "cell_type": "code",
   "execution_count": null,
   "metadata": {
    "collapsed": false
   },
   "outputs": [],
   "source": [
    "m_grid_t.PHY"
   ]
  },
  {
   "cell_type": "code",
   "execution_count": null,
   "metadata": {
    "collapsed": false
   },
   "outputs": [],
   "source": [
    "NO3_subset_20m = ((m_grid_t[\"NO3\"] - n_grid_t[\"NO3\"]).where(m_grid_t[\"O2\"] != 0).isel(deptht = 18, time_counter = 23))"
   ]
  },
  {
   "cell_type": "code",
   "execution_count": null,
   "metadata": {
    "collapsed": false
   },
   "outputs": [],
   "source": [
    "fig, ax = plt.subplots(1,1, figsize = (15,15))\n",
    "NO3_subset_20m.plot(ax = ax, cmap = \"jet\", robust = True)\n",
    "plt.title(\"NO3(Iopt_diat=55) - NO3(Iopt_diat=42) After 1 Day at Depth=20m \", size = 35)"
   ]
  },
  {
   "cell_type": "code",
   "execution_count": null,
   "metadata": {
    "collapsed": true
   },
   "outputs": [],
   "source": [
    "NO3_subset_0m = ((m_grid_t[\"NO3\"] - n_grid_t[\"NO3\"]).where(m_grid_t[\"O2\"] != 0).isel(deptht = 0, time_counter = 23))"
   ]
  },
  {
   "cell_type": "code",
   "execution_count": null,
   "metadata": {
    "collapsed": false
   },
   "outputs": [],
   "source": [
    "fig, ax = plt.subplots(1,1, figsize = (15,15))\n",
    "NO3_subset_0m.plot(ax = ax, cmap = \"jet\", robust = True)\n",
    "plt.title(\"NO3(Iopt_diat=55) - NO3(Iopt_diat=42) After 1 Day at Depth=0m \", size = 35)"
   ]
  },
  {
   "cell_type": "code",
   "execution_count": null,
   "metadata": {
    "collapsed": true
   },
   "outputs": [],
   "source": [
    "PHY2_subset_20m = ((m_grid_t[\"PHY2\"] - n_grid_t[\"PHY2\"]).where(m_grid_t[\"O2\"] != 0).isel(deptht = 19, time_counter = 23))"
   ]
  },
  {
   "cell_type": "code",
   "execution_count": null,
   "metadata": {
    "collapsed": false
   },
   "outputs": [],
   "source": [
    "fig, ax = plt.subplots(1,1, figsize = (15,15))\n",
    "PHY2_subset_20m.plot(ax = ax, cmap = \"jet\", robust = True)\n",
    "plt.title(\"PHY2(Iopt_diat=55) - PHY2(Iopt_diat=42) After 1 Day at Depth=20m \", size = 35)"
   ]
  },
  {
   "cell_type": "code",
   "execution_count": null,
   "metadata": {
    "collapsed": true
   },
   "outputs": [],
   "source": [
    "PHY2_subset_0m = ((m_grid_t[\"PHY2\"] - n_grid_t[\"PHY2\"]).where(m_grid_t[\"O2\"] != 0).isel(deptht = 0, time_counter = 23))"
   ]
  },
  {
   "cell_type": "code",
   "execution_count": null,
   "metadata": {
    "collapsed": false
   },
   "outputs": [],
   "source": [
    "fig, ax = plt.subplots(1,1, figsize = (15,15))\n",
    "PHY2_subset_0m.plot(ax = ax, cmap = \"jet\", robust = True)\n",
    "plt.title(\"PHY2(Iopt_diat=55) - PHY2(Iopt_diat=42) After 1 Day at Depth=0m \", size = 35)"
   ]
  },
  {
   "cell_type": "code",
   "execution_count": 4,
   "metadata": {
    "collapsed": false
   },
   "outputs": [],
   "source": [
    "# Have to keep this and the next cell apart or it fails with memory error. Something to do with \n",
    "# Jupyter notebook caching\n",
    "tracer = \"PHY2\"\n",
    "mod_tracer_depth_time =  m_grid_t[tracer].where(m_grid_t[tracer] != 0).mean(dim = [\"x\",\"y\"]).to_dataframe(name = \"MEAN_\" + tracer)"
   ]
  },
  {
   "cell_type": "code",
   "execution_count": 5,
   "metadata": {
    "collapsed": false
   },
   "outputs": [],
   "source": [
    "now_tracer_depth_time =  n_grid_t[tracer].where(n_grid_t[tracer] != 0).mean(dim = [\"x\",\"y\"]).to_dataframe(name = \"MEAN_\" + tracer)\n",
    "var_name = \"MEAN_\" + tracer"
   ]
  },
  {
   "cell_type": "code",
   "execution_count": 6,
   "metadata": {
    "collapsed": false
   },
   "outputs": [],
   "source": [
    "mod_tracer_depth_time[\"DATA_SOURCE\"] = \"IOPT DIAT = 55\"\n",
    "now_tracer_depth_time[\"DATA_SOURCE\"] = \"IOPT DIAT = 42\"\n",
    "combined = pd.concat([mod_tracer_depth_time, now_tracer_depth_time])\n",
    "combined.reset_index(inplace=True)"
   ]
  },
  {
   "cell_type": "code",
   "execution_count": 7,
   "metadata": {
    "collapsed": false
   },
   "outputs": [],
   "source": [
    "%load_ext rpy2.ipython"
   ]
  },
  {
   "cell_type": "code",
   "execution_count": 9,
   "metadata": {
    "collapsed": false
   },
   "outputs": [
    {
     "ename": "RRuntimeError",
     "evalue": "Error in .External2(C_X11, paste(\"png::\", filename, sep = \"\"), g$width,  : \n  unable to start device PNG\n",
     "output_type": "error",
     "traceback": [
      "\u001b[1;31m---------------------------------------------------------------------------\u001b[0m",
      "\u001b[1;31mRRuntimeError\u001b[0m                             Traceback (most recent call last)",
      "\u001b[1;32m<ipython-input-9-2765bc9a58c7>\u001b[0m in \u001b[0;36m<module>\u001b[1;34m()\u001b[0m\n\u001b[1;32m----> 1\u001b[1;33m \u001b[0mget_ipython\u001b[0m\u001b[1;33m(\u001b[0m\u001b[1;33m)\u001b[0m\u001b[1;33m.\u001b[0m\u001b[0mrun_cell_magic\u001b[0m\u001b[1;33m(\u001b[0m\u001b[1;34m'R'\u001b[0m\u001b[1;33m,\u001b[0m \u001b[1;34m''\u001b[0m\u001b[1;33m,\u001b[0m \u001b[1;34m'require(ggplot2)\\nrequire(data.table)\\nlibrary(repr)'\u001b[0m\u001b[1;33m)\u001b[0m\u001b[1;33m\u001b[0m\u001b[0m\n\u001b[0m",
      "\u001b[1;32m/home/jpetrie/anaconda3/lib/python3.5/site-packages/IPython/core/interactiveshell.py\u001b[0m in \u001b[0;36mrun_cell_magic\u001b[1;34m(self, magic_name, line, cell)\u001b[0m\n\u001b[0;32m   2118\u001b[0m             \u001b[0mmagic_arg_s\u001b[0m \u001b[1;33m=\u001b[0m \u001b[0mself\u001b[0m\u001b[1;33m.\u001b[0m\u001b[0mvar_expand\u001b[0m\u001b[1;33m(\u001b[0m\u001b[0mline\u001b[0m\u001b[1;33m,\u001b[0m \u001b[0mstack_depth\u001b[0m\u001b[1;33m)\u001b[0m\u001b[1;33m\u001b[0m\u001b[0m\n\u001b[0;32m   2119\u001b[0m             \u001b[1;32mwith\u001b[0m \u001b[0mself\u001b[0m\u001b[1;33m.\u001b[0m\u001b[0mbuiltin_trap\u001b[0m\u001b[1;33m:\u001b[0m\u001b[1;33m\u001b[0m\u001b[0m\n\u001b[1;32m-> 2120\u001b[1;33m                 \u001b[0mresult\u001b[0m \u001b[1;33m=\u001b[0m \u001b[0mfn\u001b[0m\u001b[1;33m(\u001b[0m\u001b[0mmagic_arg_s\u001b[0m\u001b[1;33m,\u001b[0m \u001b[0mcell\u001b[0m\u001b[1;33m)\u001b[0m\u001b[1;33m\u001b[0m\u001b[0m\n\u001b[0m\u001b[0;32m   2121\u001b[0m             \u001b[1;32mreturn\u001b[0m \u001b[0mresult\u001b[0m\u001b[1;33m\u001b[0m\u001b[0m\n\u001b[0;32m   2122\u001b[0m \u001b[1;33m\u001b[0m\u001b[0m\n",
      "\u001b[1;32m<decorator-gen-128>\u001b[0m in \u001b[0;36mR\u001b[1;34m(self, line, cell, local_ns)\u001b[0m\n",
      "\u001b[1;32m/home/jpetrie/anaconda3/lib/python3.5/site-packages/IPython/core/magic.py\u001b[0m in \u001b[0;36m<lambda>\u001b[1;34m(f, *a, **k)\u001b[0m\n\u001b[0;32m    191\u001b[0m     \u001b[1;31m# but it's overkill for just that one bit of state.\u001b[0m\u001b[1;33m\u001b[0m\u001b[1;33m\u001b[0m\u001b[0m\n\u001b[0;32m    192\u001b[0m     \u001b[1;32mdef\u001b[0m \u001b[0mmagic_deco\u001b[0m\u001b[1;33m(\u001b[0m\u001b[0marg\u001b[0m\u001b[1;33m)\u001b[0m\u001b[1;33m:\u001b[0m\u001b[1;33m\u001b[0m\u001b[0m\n\u001b[1;32m--> 193\u001b[1;33m         \u001b[0mcall\u001b[0m \u001b[1;33m=\u001b[0m \u001b[1;32mlambda\u001b[0m \u001b[0mf\u001b[0m\u001b[1;33m,\u001b[0m \u001b[1;33m*\u001b[0m\u001b[0ma\u001b[0m\u001b[1;33m,\u001b[0m \u001b[1;33m**\u001b[0m\u001b[0mk\u001b[0m\u001b[1;33m:\u001b[0m \u001b[0mf\u001b[0m\u001b[1;33m(\u001b[0m\u001b[1;33m*\u001b[0m\u001b[0ma\u001b[0m\u001b[1;33m,\u001b[0m \u001b[1;33m**\u001b[0m\u001b[0mk\u001b[0m\u001b[1;33m)\u001b[0m\u001b[1;33m\u001b[0m\u001b[0m\n\u001b[0m\u001b[0;32m    194\u001b[0m \u001b[1;33m\u001b[0m\u001b[0m\n\u001b[0;32m    195\u001b[0m         \u001b[1;32mif\u001b[0m \u001b[0mcallable\u001b[0m\u001b[1;33m(\u001b[0m\u001b[0marg\u001b[0m\u001b[1;33m)\u001b[0m\u001b[1;33m:\u001b[0m\u001b[1;33m\u001b[0m\u001b[0m\n",
      "\u001b[1;32m/home/jpetrie/anaconda3/lib/python3.5/site-packages/rpy2/ipython/rmagic.py\u001b[0m in \u001b[0;36mR\u001b[1;34m(self, line, cell, local_ns)\u001b[0m\n\u001b[0;32m    663\u001b[0m                     \u001b[0mro\u001b[0m\u001b[1;33m.\u001b[0m\u001b[0mr\u001b[0m\u001b[1;33m.\u001b[0m\u001b[0massign\u001b[0m\u001b[1;33m(\u001b[0m\u001b[0minput\u001b[0m\u001b[1;33m,\u001b[0m \u001b[0mlocalconverter\u001b[0m\u001b[1;33m.\u001b[0m\u001b[0mpy2ri\u001b[0m\u001b[1;33m(\u001b[0m\u001b[0mval\u001b[0m\u001b[1;33m)\u001b[0m\u001b[1;33m)\u001b[0m\u001b[1;33m\u001b[0m\u001b[0m\n\u001b[0;32m    664\u001b[0m \u001b[1;33m\u001b[0m\u001b[0m\n\u001b[1;32m--> 665\u001b[1;33m         \u001b[0mtmpd\u001b[0m \u001b[1;33m=\u001b[0m \u001b[0mself\u001b[0m\u001b[1;33m.\u001b[0m\u001b[0msetup_graphics\u001b[0m\u001b[1;33m(\u001b[0m\u001b[0margs\u001b[0m\u001b[1;33m)\u001b[0m\u001b[1;33m\u001b[0m\u001b[0m\n\u001b[0m\u001b[0;32m    666\u001b[0m \u001b[1;33m\u001b[0m\u001b[0m\n\u001b[0;32m    667\u001b[0m         \u001b[0mtext_output\u001b[0m \u001b[1;33m=\u001b[0m \u001b[1;34m''\u001b[0m\u001b[1;33m\u001b[0m\u001b[0m\n",
      "\u001b[1;32m/home/jpetrie/anaconda3/lib/python3.5/site-packages/rpy2/ipython/rmagic.py\u001b[0m in \u001b[0;36msetup_graphics\u001b[1;34m(self, args)\u001b[0m\n\u001b[0;32m    413\u001b[0m                 \u001b[1;31m# Note: that %% is to pass into R for interpolation there\u001b[0m\u001b[1;33m\u001b[0m\u001b[1;33m\u001b[0m\u001b[0m\n\u001b[0;32m    414\u001b[0m                 ro.r.png(\"%s/Rplots%%03d.png\" % tmpd_fix_slashes,\n\u001b[1;32m--> 415\u001b[1;33m                         **argdict)\n\u001b[0m\u001b[0;32m    416\u001b[0m             \u001b[1;32melif\u001b[0m \u001b[0mself\u001b[0m\u001b[1;33m.\u001b[0m\u001b[0mdevice\u001b[0m \u001b[1;33m==\u001b[0m \u001b[1;34m'svg'\u001b[0m\u001b[1;33m:\u001b[0m\u001b[1;33m\u001b[0m\u001b[0m\n\u001b[0;32m    417\u001b[0m                 self.cairo.CairoSVG(\"%s/Rplot.svg\" % tmpd_fix_slashes,\n",
      "\u001b[1;32m/home/jpetrie/anaconda3/lib/python3.5/site-packages/rpy2/robjects/functions.py\u001b[0m in \u001b[0;36m__call__\u001b[1;34m(self, *args, **kwargs)\u001b[0m\n\u001b[0;32m    176\u001b[0m                 \u001b[0mv\u001b[0m \u001b[1;33m=\u001b[0m \u001b[0mkwargs\u001b[0m\u001b[1;33m.\u001b[0m\u001b[0mpop\u001b[0m\u001b[1;33m(\u001b[0m\u001b[0mk\u001b[0m\u001b[1;33m)\u001b[0m\u001b[1;33m\u001b[0m\u001b[0m\n\u001b[0;32m    177\u001b[0m                 \u001b[0mkwargs\u001b[0m\u001b[1;33m[\u001b[0m\u001b[0mr_k\u001b[0m\u001b[1;33m]\u001b[0m \u001b[1;33m=\u001b[0m \u001b[0mv\u001b[0m\u001b[1;33m\u001b[0m\u001b[0m\n\u001b[1;32m--> 178\u001b[1;33m         \u001b[1;32mreturn\u001b[0m \u001b[0msuper\u001b[0m\u001b[1;33m(\u001b[0m\u001b[0mSignatureTranslatedFunction\u001b[0m\u001b[1;33m,\u001b[0m \u001b[0mself\u001b[0m\u001b[1;33m)\u001b[0m\u001b[1;33m.\u001b[0m\u001b[0m__call__\u001b[0m\u001b[1;33m(\u001b[0m\u001b[1;33m*\u001b[0m\u001b[0margs\u001b[0m\u001b[1;33m,\u001b[0m \u001b[1;33m**\u001b[0m\u001b[0mkwargs\u001b[0m\u001b[1;33m)\u001b[0m\u001b[1;33m\u001b[0m\u001b[0m\n\u001b[0m\u001b[0;32m    179\u001b[0m \u001b[1;33m\u001b[0m\u001b[0m\n\u001b[0;32m    180\u001b[0m \u001b[0mpattern_link\u001b[0m \u001b[1;33m=\u001b[0m \u001b[0mre\u001b[0m\u001b[1;33m.\u001b[0m\u001b[0mcompile\u001b[0m\u001b[1;33m(\u001b[0m\u001b[1;34mr'\\\\link\\{(.+?)\\}'\u001b[0m\u001b[1;33m)\u001b[0m\u001b[1;33m\u001b[0m\u001b[0m\n",
      "\u001b[1;32m/home/jpetrie/anaconda3/lib/python3.5/site-packages/rpy2/robjects/functions.py\u001b[0m in \u001b[0;36m__call__\u001b[1;34m(self, *args, **kwargs)\u001b[0m\n\u001b[0;32m    104\u001b[0m         \u001b[1;32mfor\u001b[0m \u001b[0mk\u001b[0m\u001b[1;33m,\u001b[0m \u001b[0mv\u001b[0m \u001b[1;32min\u001b[0m \u001b[0mkwargs\u001b[0m\u001b[1;33m.\u001b[0m\u001b[0mitems\u001b[0m\u001b[1;33m(\u001b[0m\u001b[1;33m)\u001b[0m\u001b[1;33m:\u001b[0m\u001b[1;33m\u001b[0m\u001b[0m\n\u001b[0;32m    105\u001b[0m             \u001b[0mnew_kwargs\u001b[0m\u001b[1;33m[\u001b[0m\u001b[0mk\u001b[0m\u001b[1;33m]\u001b[0m \u001b[1;33m=\u001b[0m \u001b[0mconversion\u001b[0m\u001b[1;33m.\u001b[0m\u001b[0mpy2ri\u001b[0m\u001b[1;33m(\u001b[0m\u001b[0mv\u001b[0m\u001b[1;33m)\u001b[0m\u001b[1;33m\u001b[0m\u001b[0m\n\u001b[1;32m--> 106\u001b[1;33m         \u001b[0mres\u001b[0m \u001b[1;33m=\u001b[0m \u001b[0msuper\u001b[0m\u001b[1;33m(\u001b[0m\u001b[0mFunction\u001b[0m\u001b[1;33m,\u001b[0m \u001b[0mself\u001b[0m\u001b[1;33m)\u001b[0m\u001b[1;33m.\u001b[0m\u001b[0m__call__\u001b[0m\u001b[1;33m(\u001b[0m\u001b[1;33m*\u001b[0m\u001b[0mnew_args\u001b[0m\u001b[1;33m,\u001b[0m \u001b[1;33m**\u001b[0m\u001b[0mnew_kwargs\u001b[0m\u001b[1;33m)\u001b[0m\u001b[1;33m\u001b[0m\u001b[0m\n\u001b[0m\u001b[0;32m    107\u001b[0m         \u001b[0mres\u001b[0m \u001b[1;33m=\u001b[0m \u001b[0mconversion\u001b[0m\u001b[1;33m.\u001b[0m\u001b[0mri2ro\u001b[0m\u001b[1;33m(\u001b[0m\u001b[0mres\u001b[0m\u001b[1;33m)\u001b[0m\u001b[1;33m\u001b[0m\u001b[0m\n\u001b[0;32m    108\u001b[0m         \u001b[1;32mreturn\u001b[0m \u001b[0mres\u001b[0m\u001b[1;33m\u001b[0m\u001b[0m\n",
      "\u001b[1;31mRRuntimeError\u001b[0m: Error in .External2(C_X11, paste(\"png::\", filename, sep = \"\"), g$width,  : \n  unable to start device PNG\n"
     ]
    }
   ],
   "source": [
    "%%R \n",
    "require(ggplot2)\n",
    "require(data.table)\n",
    "library(repr)"
   ]
  },
  {
   "cell_type": "code",
   "execution_count": 18,
   "metadata": {
    "collapsed": false
   },
   "outputs": [
    {
     "data": {
      "image/png": "[encoded data removed]"
     },
     "metadata": {},
     "output_type": "display_data"
    }
   ],
   "source": [
    "%%R -i combined,var_name -h 1200 -w 1500 -r 400\n",
    "combined = data.table(combined)\n",
    "ggplot(combined[deptht < 25 & time_counter == max(time_counter) ], aes_string(y = \"deptht\", x = var_name, colour = \"DATA_SOURCE\")) + \n",
    "    geom_path() + ylim(25,0) +\n",
    "    facet_wrap(~time_counter) +\n",
    "    ylab(\"Depth (m)\") + \n",
    "    xlab(\"Phytoplankton (mmolN/m^3)\")"
   ]
  },
  {
   "cell_type": "code",
   "execution_count": 3,
   "metadata": {
    "collapsed": false
   },
   "outputs": [],
   "source": [
    "# Have to keep this and the next cell apart or it fails with memory error. Something to do with \n",
    "# Jupyter notebook caching\n",
    "tracer = \"NO3\"\n",
    "mod_tracer_depth_time =  m_grid_t[tracer].where(m_grid_t[\"O2\"] != 0).mean(dim = [\"x\",\"y\"]).to_dataframe(name = \"MEAN_\" + tracer)"
   ]
  },
  {
   "cell_type": "code",
   "execution_count": 4,
   "metadata": {
    "collapsed": false
   },
   "outputs": [],
   "source": [
    "now_tracer_depth_time =  n_grid_t[tracer].where(m_grid_t[\"O2\"] != 0).mean(dim = [\"x\",\"y\"]).to_dataframe(name = \"MEAN_\" + tracer)\n",
    "var_name = \"MEAN_\" + tracer"
   ]
  },
  {
   "cell_type": "code",
   "execution_count": 17,
   "metadata": {
    "collapsed": true
   },
   "outputs": [],
   "source": [
    "mod_tracer_depth_time[\"DATA_SOURCE\"] = \"IOPT_DIAT_55\"\n",
    "now_tracer_depth_time[\"DATA_SOURCE\"] = \"IOPT_DIAT_42\"\n",
    "combined = pd.concat([mod_tracer_depth_time, now_tracer_depth_time])\n",
    "combined.reset_index(inplace=True)"
   ]
  },
  {
   "cell_type": "code",
   "execution_count": 10,
   "metadata": {
    "collapsed": false
   },
   "outputs": [
    {
     "data": {
      "text/plain": [
       "<seaborn.axisgrid.FacetGrid at 0x7f24d81a0048>"
      ]
     },
     "execution_count": 10,
     "metadata": {},
     "output_type": "execute_result"
    },
    {
     "data": {
      "image/png": "[encoded data removed]",
      "text/plain": [
       "<matplotlib.figure.Figure at 0x7f24f8057cf8>"
      ]
     },
     "metadata": {},
     "output_type": "display_data"
    }
   ],
   "source": [
    "fg = sns.FacetGrid(data=combined, hue=\"DATA_SOURCE\")\n",
    "fg.map(plt.plot,\"deptht\", var_name).add_legend()\n"
   ]
  },
  {
   "cell_type": "code",
   "execution_count": 29,
   "metadata": {
    "collapsed": false
   },
   "outputs": [
    {
     "ename": "RRuntimeError",
     "evalue": "Error in SYS[[length(SYS) - 3L]][[1L]] == \"knit_print.default\" : \n  comparison (1) is possible only for atomic and list types\n",
     "output_type": "error",
     "traceback": [
      "\u001b[1;31m---------------------------------------------------------------------------\u001b[0m",
      "\u001b[1;31mRRuntimeError\u001b[0m                             Traceback (most recent call last)",
      "\u001b[1;32m<ipython-input-29-f8881ecb569a>\u001b[0m in \u001b[0;36m<module>\u001b[1;34m()\u001b[0m\n\u001b[1;32m----> 1\u001b[1;33m \u001b[0mget_ipython\u001b[0m\u001b[1;33m(\u001b[0m\u001b[1;33m)\u001b[0m\u001b[1;33m.\u001b[0m\u001b[0mrun_cell_magic\u001b[0m\u001b[1;33m(\u001b[0m\u001b[1;34m'R'\u001b[0m\u001b[1;33m,\u001b[0m \u001b[1;34m''\u001b[0m\u001b[1;33m,\u001b[0m \u001b[1;34m'wide_combined[, DIF := IOPT_DIAT_55 - IOPT_DIAT_42]'\u001b[0m\u001b[1;33m)\u001b[0m\u001b[1;33m\u001b[0m\u001b[0m\n\u001b[0m",
      "\u001b[1;32m/home/jpetrie/anaconda3/lib/python3.5/site-packages/IPython/core/interactiveshell.py\u001b[0m in \u001b[0;36mrun_cell_magic\u001b[1;34m(self, magic_name, line, cell)\u001b[0m\n\u001b[0;32m   2118\u001b[0m             \u001b[0mmagic_arg_s\u001b[0m \u001b[1;33m=\u001b[0m \u001b[0mself\u001b[0m\u001b[1;33m.\u001b[0m\u001b[0mvar_expand\u001b[0m\u001b[1;33m(\u001b[0m\u001b[0mline\u001b[0m\u001b[1;33m,\u001b[0m \u001b[0mstack_depth\u001b[0m\u001b[1;33m)\u001b[0m\u001b[1;33m\u001b[0m\u001b[0m\n\u001b[0;32m   2119\u001b[0m             \u001b[1;32mwith\u001b[0m \u001b[0mself\u001b[0m\u001b[1;33m.\u001b[0m\u001b[0mbuiltin_trap\u001b[0m\u001b[1;33m:\u001b[0m\u001b[1;33m\u001b[0m\u001b[0m\n\u001b[1;32m-> 2120\u001b[1;33m                 \u001b[0mresult\u001b[0m \u001b[1;33m=\u001b[0m \u001b[0mfn\u001b[0m\u001b[1;33m(\u001b[0m\u001b[0mmagic_arg_s\u001b[0m\u001b[1;33m,\u001b[0m \u001b[0mcell\u001b[0m\u001b[1;33m)\u001b[0m\u001b[1;33m\u001b[0m\u001b[0m\n\u001b[0m\u001b[0;32m   2121\u001b[0m             \u001b[1;32mreturn\u001b[0m \u001b[0mresult\u001b[0m\u001b[1;33m\u001b[0m\u001b[0m\n\u001b[0;32m   2122\u001b[0m \u001b[1;33m\u001b[0m\u001b[0m\n",
      "\u001b[1;32m<decorator-gen-128>\u001b[0m in \u001b[0;36mR\u001b[1;34m(self, line, cell, local_ns)\u001b[0m\n",
      "\u001b[1;32m/home/jpetrie/anaconda3/lib/python3.5/site-packages/IPython/core/magic.py\u001b[0m in \u001b[0;36m<lambda>\u001b[1;34m(f, *a, **k)\u001b[0m\n\u001b[0;32m    191\u001b[0m     \u001b[1;31m# but it's overkill for just that one bit of state.\u001b[0m\u001b[1;33m\u001b[0m\u001b[1;33m\u001b[0m\u001b[0m\n\u001b[0;32m    192\u001b[0m     \u001b[1;32mdef\u001b[0m \u001b[0mmagic_deco\u001b[0m\u001b[1;33m(\u001b[0m\u001b[0marg\u001b[0m\u001b[1;33m)\u001b[0m\u001b[1;33m:\u001b[0m\u001b[1;33m\u001b[0m\u001b[0m\n\u001b[1;32m--> 193\u001b[1;33m         \u001b[0mcall\u001b[0m \u001b[1;33m=\u001b[0m \u001b[1;32mlambda\u001b[0m \u001b[0mf\u001b[0m\u001b[1;33m,\u001b[0m \u001b[1;33m*\u001b[0m\u001b[0ma\u001b[0m\u001b[1;33m,\u001b[0m \u001b[1;33m**\u001b[0m\u001b[0mk\u001b[0m\u001b[1;33m:\u001b[0m \u001b[0mf\u001b[0m\u001b[1;33m(\u001b[0m\u001b[1;33m*\u001b[0m\u001b[0ma\u001b[0m\u001b[1;33m,\u001b[0m \u001b[1;33m**\u001b[0m\u001b[0mk\u001b[0m\u001b[1;33m)\u001b[0m\u001b[1;33m\u001b[0m\u001b[0m\n\u001b[0m\u001b[0;32m    194\u001b[0m \u001b[1;33m\u001b[0m\u001b[0m\n\u001b[0;32m    195\u001b[0m         \u001b[1;32mif\u001b[0m \u001b[0mcallable\u001b[0m\u001b[1;33m(\u001b[0m\u001b[0marg\u001b[0m\u001b[1;33m)\u001b[0m\u001b[1;33m:\u001b[0m\u001b[1;33m\u001b[0m\u001b[0m\n",
      "\u001b[1;32m/home/jpetrie/anaconda3/lib/python3.5/site-packages/rpy2/ipython/rmagic.py\u001b[0m in \u001b[0;36mR\u001b[1;34m(self, line, cell, local_ns)\u001b[0m\n\u001b[0;32m    680\u001b[0m                     \u001b[0mold_writeconsole_regular\u001b[0m \u001b[1;33m=\u001b[0m \u001b[0mri\u001b[0m\u001b[1;33m.\u001b[0m\u001b[0mget_writeconsole_regular\u001b[0m\u001b[1;33m(\u001b[0m\u001b[1;33m)\u001b[0m\u001b[1;33m\u001b[0m\u001b[0m\n\u001b[0;32m    681\u001b[0m                     \u001b[0mri\u001b[0m\u001b[1;33m.\u001b[0m\u001b[0mset_writeconsole_regular\u001b[0m\u001b[1;33m(\u001b[0m\u001b[0mself\u001b[0m\u001b[1;33m.\u001b[0m\u001b[0mwrite_console_regular\u001b[0m\u001b[1;33m)\u001b[0m\u001b[1;33m\u001b[0m\u001b[0m\n\u001b[1;32m--> 682\u001b[1;33m                     \u001b[0mro\u001b[0m\u001b[1;33m.\u001b[0m\u001b[0mr\u001b[0m\u001b[1;33m.\u001b[0m\u001b[0mshow\u001b[0m\u001b[1;33m(\u001b[0m\u001b[0mresult\u001b[0m\u001b[1;33m)\u001b[0m\u001b[1;33m\u001b[0m\u001b[0m\n\u001b[0m\u001b[0;32m    683\u001b[0m                     \u001b[0mtext_output\u001b[0m \u001b[1;33m+=\u001b[0m \u001b[0mself\u001b[0m\u001b[1;33m.\u001b[0m\u001b[0mflush\u001b[0m\u001b[1;33m(\u001b[0m\u001b[1;33m)\u001b[0m\u001b[1;33m\u001b[0m\u001b[0m\n\u001b[0;32m    684\u001b[0m                     \u001b[0mri\u001b[0m\u001b[1;33m.\u001b[0m\u001b[0mset_writeconsole_regular\u001b[0m\u001b[1;33m(\u001b[0m\u001b[0mold_writeconsole_regular\u001b[0m\u001b[1;33m)\u001b[0m\u001b[1;33m\u001b[0m\u001b[0m\n",
      "\u001b[1;32m/home/jpetrie/anaconda3/lib/python3.5/site-packages/rpy2/robjects/functions.py\u001b[0m in \u001b[0;36m__call__\u001b[1;34m(self, *args, **kwargs)\u001b[0m\n\u001b[0;32m    176\u001b[0m                 \u001b[0mv\u001b[0m \u001b[1;33m=\u001b[0m \u001b[0mkwargs\u001b[0m\u001b[1;33m.\u001b[0m\u001b[0mpop\u001b[0m\u001b[1;33m(\u001b[0m\u001b[0mk\u001b[0m\u001b[1;33m)\u001b[0m\u001b[1;33m\u001b[0m\u001b[0m\n\u001b[0;32m    177\u001b[0m                 \u001b[0mkwargs\u001b[0m\u001b[1;33m[\u001b[0m\u001b[0mr_k\u001b[0m\u001b[1;33m]\u001b[0m \u001b[1;33m=\u001b[0m \u001b[0mv\u001b[0m\u001b[1;33m\u001b[0m\u001b[0m\n\u001b[1;32m--> 178\u001b[1;33m         \u001b[1;32mreturn\u001b[0m \u001b[0msuper\u001b[0m\u001b[1;33m(\u001b[0m\u001b[0mSignatureTranslatedFunction\u001b[0m\u001b[1;33m,\u001b[0m \u001b[0mself\u001b[0m\u001b[1;33m)\u001b[0m\u001b[1;33m.\u001b[0m\u001b[0m__call__\u001b[0m\u001b[1;33m(\u001b[0m\u001b[1;33m*\u001b[0m\u001b[0margs\u001b[0m\u001b[1;33m,\u001b[0m \u001b[1;33m**\u001b[0m\u001b[0mkwargs\u001b[0m\u001b[1;33m)\u001b[0m\u001b[1;33m\u001b[0m\u001b[0m\n\u001b[0m\u001b[0;32m    179\u001b[0m \u001b[1;33m\u001b[0m\u001b[0m\n\u001b[0;32m    180\u001b[0m \u001b[0mpattern_link\u001b[0m \u001b[1;33m=\u001b[0m \u001b[0mre\u001b[0m\u001b[1;33m.\u001b[0m\u001b[0mcompile\u001b[0m\u001b[1;33m(\u001b[0m\u001b[1;34mr'\\\\link\\{(.+?)\\}'\u001b[0m\u001b[1;33m)\u001b[0m\u001b[1;33m\u001b[0m\u001b[0m\n",
      "\u001b[1;32m/home/jpetrie/anaconda3/lib/python3.5/site-packages/rpy2/robjects/functions.py\u001b[0m in \u001b[0;36m__call__\u001b[1;34m(self, *args, **kwargs)\u001b[0m\n\u001b[0;32m    104\u001b[0m         \u001b[1;32mfor\u001b[0m \u001b[0mk\u001b[0m\u001b[1;33m,\u001b[0m \u001b[0mv\u001b[0m \u001b[1;32min\u001b[0m \u001b[0mkwargs\u001b[0m\u001b[1;33m.\u001b[0m\u001b[0mitems\u001b[0m\u001b[1;33m(\u001b[0m\u001b[1;33m)\u001b[0m\u001b[1;33m:\u001b[0m\u001b[1;33m\u001b[0m\u001b[0m\n\u001b[0;32m    105\u001b[0m             \u001b[0mnew_kwargs\u001b[0m\u001b[1;33m[\u001b[0m\u001b[0mk\u001b[0m\u001b[1;33m]\u001b[0m \u001b[1;33m=\u001b[0m \u001b[0mconversion\u001b[0m\u001b[1;33m.\u001b[0m\u001b[0mpy2ri\u001b[0m\u001b[1;33m(\u001b[0m\u001b[0mv\u001b[0m\u001b[1;33m)\u001b[0m\u001b[1;33m\u001b[0m\u001b[0m\n\u001b[1;32m--> 106\u001b[1;33m         \u001b[0mres\u001b[0m \u001b[1;33m=\u001b[0m \u001b[0msuper\u001b[0m\u001b[1;33m(\u001b[0m\u001b[0mFunction\u001b[0m\u001b[1;33m,\u001b[0m \u001b[0mself\u001b[0m\u001b[1;33m)\u001b[0m\u001b[1;33m.\u001b[0m\u001b[0m__call__\u001b[0m\u001b[1;33m(\u001b[0m\u001b[1;33m*\u001b[0m\u001b[0mnew_args\u001b[0m\u001b[1;33m,\u001b[0m \u001b[1;33m**\u001b[0m\u001b[0mnew_kwargs\u001b[0m\u001b[1;33m)\u001b[0m\u001b[1;33m\u001b[0m\u001b[0m\n\u001b[0m\u001b[0;32m    107\u001b[0m         \u001b[0mres\u001b[0m \u001b[1;33m=\u001b[0m \u001b[0mconversion\u001b[0m\u001b[1;33m.\u001b[0m\u001b[0mri2ro\u001b[0m\u001b[1;33m(\u001b[0m\u001b[0mres\u001b[0m\u001b[1;33m)\u001b[0m\u001b[1;33m\u001b[0m\u001b[0m\n\u001b[0;32m    108\u001b[0m         \u001b[1;32mreturn\u001b[0m \u001b[0mres\u001b[0m\u001b[1;33m\u001b[0m\u001b[0m\n",
      "\u001b[1;31mRRuntimeError\u001b[0m: Error in SYS[[length(SYS) - 3L]][[1L]] == \"knit_print.default\" : \n  comparison (1) is possible only for atomic and list types\n"
     ]
    }
   ],
   "source": [
    "%%R\n",
    "ggplot(combined, aes(x = ))"
   ]
  },
  {
   "cell_type": "code",
   "execution_count": 3,
   "metadata": {
    "collapsed": false
   },
   "outputs": [
    {
     "name": "stderr",
     "output_type": "stream",
     "text": [
      "ERROR: Cell magic `%%R` not found.\n"
     ]
    }
   ],
   "source": [
    "%%R -i combined,var_name -h 4200 -w 2400 -r 400\n",
    "combined = data.table(combined)\n",
    "ggplot(combined[deptht < 25,], aes_string(y = \"deptht\", x = var_name)) + \n",
    "    geom_path() + ylim(25,0) +\n",
    "    facet_wrap(~time_counter, ncol = 3)"
   ]
  },
  {
   "cell_type": "code",
   "execution_count": 36,
   "metadata": {
    "collapsed": false
   },
   "outputs": [
    {
     "data": {
      "text/html": [
       "<div>\n",
       "<table border=\"1\" class=\"dataframe\">\n",
       "  <thead>\n",
       "    <tr style=\"text-align: right;\">\n",
       "      <th></th>\n",
       "      <th>time_counter</th>\n",
       "      <th>deptht</th>\n",
       "      <th>time_centered</th>\n",
       "      <th>MEAN_NO3</th>\n",
       "      <th>DATA_SOURCE</th>\n",
       "    </tr>\n",
       "  </thead>\n",
       "  <tbody>\n",
       "    <tr>\n",
       "      <th>0</th>\n",
       "      <td>2016-04-12 00:30:00</td>\n",
       "      <td>0.500000</td>\n",
       "      <td>2016-04-12 00:30:00</td>\n",
       "      <td>5.214778</td>\n",
       "      <td>IOPT_DIAT_55</td>\n",
       "    </tr>\n",
       "    <tr>\n",
       "      <th>1</th>\n",
       "      <td>2016-04-12 00:30:00</td>\n",
       "      <td>1.500003</td>\n",
       "      <td>2016-04-12 00:30:00</td>\n",
       "      <td>5.452885</td>\n",
       "      <td>IOPT_DIAT_55</td>\n",
       "    </tr>\n",
       "    <tr>\n",
       "      <th>2</th>\n",
       "      <td>2016-04-12 00:30:00</td>\n",
       "      <td>2.500011</td>\n",
       "      <td>2016-04-12 00:30:00</td>\n",
       "      <td>5.486822</td>\n",
       "      <td>IOPT_DIAT_55</td>\n",
       "    </tr>\n",
       "    <tr>\n",
       "      <th>3</th>\n",
       "      <td>2016-04-12 00:30:00</td>\n",
       "      <td>3.500031</td>\n",
       "      <td>2016-04-12 00:30:00</td>\n",
       "      <td>5.594474</td>\n",
       "      <td>IOPT_DIAT_55</td>\n",
       "    </tr>\n",
       "    <tr>\n",
       "      <th>4</th>\n",
       "      <td>2016-04-12 00:30:00</td>\n",
       "      <td>4.500071</td>\n",
       "      <td>2016-04-12 00:30:00</td>\n",
       "      <td>5.920553</td>\n",
       "      <td>IOPT_DIAT_55</td>\n",
       "    </tr>\n",
       "    <tr>\n",
       "      <th>5</th>\n",
       "      <td>2016-04-12 00:30:00</td>\n",
       "      <td>5.500151</td>\n",
       "      <td>2016-04-12 00:30:00</td>\n",
       "      <td>6.151240</td>\n",
       "      <td>IOPT_DIAT_55</td>\n",
       "    </tr>\n",
       "    <tr>\n",
       "      <th>6</th>\n",
       "      <td>2016-04-12 00:30:00</td>\n",
       "      <td>6.500310</td>\n",
       "      <td>2016-04-12 00:30:00</td>\n",
       "      <td>6.447138</td>\n",
       "      <td>IOPT_DIAT_55</td>\n",
       "    </tr>\n",
       "    <tr>\n",
       "      <th>7</th>\n",
       "      <td>2016-04-12 00:30:00</td>\n",
       "      <td>7.500623</td>\n",
       "      <td>2016-04-12 00:30:00</td>\n",
       "      <td>6.792811</td>\n",
       "      <td>IOPT_DIAT_55</td>\n",
       "    </tr>\n",
       "    <tr>\n",
       "      <th>8</th>\n",
       "      <td>2016-04-12 00:30:00</td>\n",
       "      <td>8.501236</td>\n",
       "      <td>2016-04-12 00:30:00</td>\n",
       "      <td>7.200050</td>\n",
       "      <td>IOPT_DIAT_55</td>\n",
       "    </tr>\n",
       "    <tr>\n",
       "      <th>9</th>\n",
       "      <td>2016-04-12 00:30:00</td>\n",
       "      <td>9.502433</td>\n",
       "      <td>2016-04-12 00:30:00</td>\n",
       "      <td>7.727039</td>\n",
       "      <td>IOPT_DIAT_55</td>\n",
       "    </tr>\n",
       "    <tr>\n",
       "      <th>10</th>\n",
       "      <td>2016-04-12 00:30:00</td>\n",
       "      <td>10.504766</td>\n",
       "      <td>2016-04-12 00:30:00</td>\n",
       "      <td>8.421840</td>\n",
       "      <td>IOPT_DIAT_55</td>\n",
       "    </tr>\n",
       "    <tr>\n",
       "      <th>11</th>\n",
       "      <td>2016-04-12 00:30:00</td>\n",
       "      <td>11.509312</td>\n",
       "      <td>2016-04-12 00:30:00</td>\n",
       "      <td>9.241469</td>\n",
       "      <td>IOPT_DIAT_55</td>\n",
       "    </tr>\n",
       "    <tr>\n",
       "      <th>12</th>\n",
       "      <td>2016-04-12 00:30:00</td>\n",
       "      <td>12.518167</td>\n",
       "      <td>2016-04-12 00:30:00</td>\n",
       "      <td>10.177139</td>\n",
       "      <td>IOPT_DIAT_55</td>\n",
       "    </tr>\n",
       "    <tr>\n",
       "      <th>13</th>\n",
       "      <td>2016-04-12 00:30:00</td>\n",
       "      <td>13.535412</td>\n",
       "      <td>2016-04-12 00:30:00</td>\n",
       "      <td>11.197317</td>\n",
       "      <td>IOPT_DIAT_55</td>\n",
       "    </tr>\n",
       "    <tr>\n",
       "      <th>14</th>\n",
       "      <td>2016-04-12 00:30:00</td>\n",
       "      <td>14.568982</td>\n",
       "      <td>2016-04-12 00:30:00</td>\n",
       "      <td>12.282061</td>\n",
       "      <td>IOPT_DIAT_55</td>\n",
       "    </tr>\n",
       "    <tr>\n",
       "      <th>15</th>\n",
       "      <td>2016-04-12 00:30:00</td>\n",
       "      <td>15.634288</td>\n",
       "      <td>2016-04-12 00:30:00</td>\n",
       "      <td>13.473866</td>\n",
       "      <td>IOPT_DIAT_55</td>\n",
       "    </tr>\n",
       "    <tr>\n",
       "      <th>16</th>\n",
       "      <td>2016-04-12 00:30:00</td>\n",
       "      <td>16.761173</td>\n",
       "      <td>2016-04-12 00:30:00</td>\n",
       "      <td>14.781768</td>\n",
       "      <td>IOPT_DIAT_55</td>\n",
       "    </tr>\n",
       "    <tr>\n",
       "      <th>17</th>\n",
       "      <td>2016-04-12 00:30:00</td>\n",
       "      <td>18.007135</td>\n",
       "      <td>2016-04-12 00:30:00</td>\n",
       "      <td>16.144154</td>\n",
       "      <td>IOPT_DIAT_55</td>\n",
       "    </tr>\n",
       "    <tr>\n",
       "      <th>18</th>\n",
       "      <td>2016-04-12 00:30:00</td>\n",
       "      <td>19.481785</td>\n",
       "      <td>2016-04-12 00:30:00</td>\n",
       "      <td>17.475997</td>\n",
       "      <td>IOPT_DIAT_55</td>\n",
       "    </tr>\n",
       "    <tr>\n",
       "      <th>19</th>\n",
       "      <td>2016-04-12 00:30:00</td>\n",
       "      <td>21.389978</td>\n",
       "      <td>2016-04-12 00:30:00</td>\n",
       "      <td>18.891814</td>\n",
       "      <td>IOPT_DIAT_55</td>\n",
       "    </tr>\n",
       "    <tr>\n",
       "      <th>20</th>\n",
       "      <td>2016-04-12 00:30:00</td>\n",
       "      <td>24.100256</td>\n",
       "      <td>2016-04-12 00:30:00</td>\n",
       "      <td>20.516083</td>\n",
       "      <td>IOPT_DIAT_55</td>\n",
       "    </tr>\n",
       "    <tr>\n",
       "      <th>21</th>\n",
       "      <td>2016-04-12 00:30:00</td>\n",
       "      <td>28.229916</td>\n",
       "      <td>2016-04-12 00:30:00</td>\n",
       "      <td>22.333914</td>\n",
       "      <td>IOPT_DIAT_55</td>\n",
       "    </tr>\n",
       "    <tr>\n",
       "      <th>22</th>\n",
       "      <td>2016-04-12 00:30:00</td>\n",
       "      <td>34.685757</td>\n",
       "      <td>2016-04-12 00:30:00</td>\n",
       "      <td>24.324998</td>\n",
       "      <td>IOPT_DIAT_55</td>\n",
       "    </tr>\n",
       "    <tr>\n",
       "      <th>23</th>\n",
       "      <td>2016-04-12 00:30:00</td>\n",
       "      <td>44.517723</td>\n",
       "      <td>2016-04-12 00:30:00</td>\n",
       "      <td>26.184282</td>\n",
       "      <td>IOPT_DIAT_55</td>\n",
       "    </tr>\n",
       "    <tr>\n",
       "      <th>24</th>\n",
       "      <td>2016-04-12 00:30:00</td>\n",
       "      <td>58.484333</td>\n",
       "      <td>2016-04-12 00:30:00</td>\n",
       "      <td>27.685490</td>\n",
       "      <td>IOPT_DIAT_55</td>\n",
       "    </tr>\n",
       "    <tr>\n",
       "      <th>25</th>\n",
       "      <td>2016-04-12 00:30:00</td>\n",
       "      <td>76.585587</td>\n",
       "      <td>2016-04-12 00:30:00</td>\n",
       "      <td>28.915714</td>\n",
       "      <td>IOPT_DIAT_55</td>\n",
       "    </tr>\n",
       "    <tr>\n",
       "      <th>26</th>\n",
       "      <td>2016-04-12 00:30:00</td>\n",
       "      <td>98.062958</td>\n",
       "      <td>2016-04-12 00:30:00</td>\n",
       "      <td>29.956416</td>\n",
       "      <td>IOPT_DIAT_55</td>\n",
       "    </tr>\n",
       "    <tr>\n",
       "      <th>27</th>\n",
       "      <td>2016-04-12 00:30:00</td>\n",
       "      <td>121.866516</td>\n",
       "      <td>2016-04-12 00:30:00</td>\n",
       "      <td>30.934335</td>\n",
       "      <td>IOPT_DIAT_55</td>\n",
       "    </tr>\n",
       "    <tr>\n",
       "      <th>28</th>\n",
       "      <td>2016-04-12 00:30:00</td>\n",
       "      <td>147.089462</td>\n",
       "      <td>2016-04-12 00:30:00</td>\n",
       "      <td>31.828866</td>\n",
       "      <td>IOPT_DIAT_55</td>\n",
       "    </tr>\n",
       "    <tr>\n",
       "      <th>29</th>\n",
       "      <td>2016-04-12 00:30:00</td>\n",
       "      <td>173.114487</td>\n",
       "      <td>2016-04-12 00:30:00</td>\n",
       "      <td>32.697370</td>\n",
       "      <td>IOPT_DIAT_55</td>\n",
       "    </tr>\n",
       "    <tr>\n",
       "      <th>...</th>\n",
       "      <td>...</td>\n",
       "      <td>...</td>\n",
       "      <td>...</td>\n",
       "      <td>...</td>\n",
       "      <td>...</td>\n",
       "    </tr>\n",
       "    <tr>\n",
       "      <th>1890</th>\n",
       "      <td>2016-04-12 23:30:00</td>\n",
       "      <td>10.504766</td>\n",
       "      <td>2016-04-12 23:30:00</td>\n",
       "      <td>8.792402</td>\n",
       "      <td>IOPT_DIAT_42</td>\n",
       "    </tr>\n",
       "    <tr>\n",
       "      <th>1891</th>\n",
       "      <td>2016-04-12 23:30:00</td>\n",
       "      <td>11.509312</td>\n",
       "      <td>2016-04-12 23:30:00</td>\n",
       "      <td>9.443269</td>\n",
       "      <td>IOPT_DIAT_42</td>\n",
       "    </tr>\n",
       "    <tr>\n",
       "      <th>1892</th>\n",
       "      <td>2016-04-12 23:30:00</td>\n",
       "      <td>12.518167</td>\n",
       "      <td>2016-04-12 23:30:00</td>\n",
       "      <td>10.178115</td>\n",
       "      <td>IOPT_DIAT_42</td>\n",
       "    </tr>\n",
       "    <tr>\n",
       "      <th>1893</th>\n",
       "      <td>2016-04-12 23:30:00</td>\n",
       "      <td>13.535412</td>\n",
       "      <td>2016-04-12 23:30:00</td>\n",
       "      <td>10.986300</td>\n",
       "      <td>IOPT_DIAT_42</td>\n",
       "    </tr>\n",
       "    <tr>\n",
       "      <th>1894</th>\n",
       "      <td>2016-04-12 23:30:00</td>\n",
       "      <td>14.568982</td>\n",
       "      <td>2016-04-12 23:30:00</td>\n",
       "      <td>11.851626</td>\n",
       "      <td>IOPT_DIAT_42</td>\n",
       "    </tr>\n",
       "    <tr>\n",
       "      <th>1895</th>\n",
       "      <td>2016-04-12 23:30:00</td>\n",
       "      <td>15.634288</td>\n",
       "      <td>2016-04-12 23:30:00</td>\n",
       "      <td>12.771132</td>\n",
       "      <td>IOPT_DIAT_42</td>\n",
       "    </tr>\n",
       "    <tr>\n",
       "      <th>1896</th>\n",
       "      <td>2016-04-12 23:30:00</td>\n",
       "      <td>16.761173</td>\n",
       "      <td>2016-04-12 23:30:00</td>\n",
       "      <td>13.818082</td>\n",
       "      <td>IOPT_DIAT_42</td>\n",
       "    </tr>\n",
       "    <tr>\n",
       "      <th>1897</th>\n",
       "      <td>2016-04-12 23:30:00</td>\n",
       "      <td>18.007135</td>\n",
       "      <td>2016-04-12 23:30:00</td>\n",
       "      <td>15.014769</td>\n",
       "      <td>IOPT_DIAT_42</td>\n",
       "    </tr>\n",
       "    <tr>\n",
       "      <th>1898</th>\n",
       "      <td>2016-04-12 23:30:00</td>\n",
       "      <td>19.481785</td>\n",
       "      <td>2016-04-12 23:30:00</td>\n",
       "      <td>16.283267</td>\n",
       "      <td>IOPT_DIAT_42</td>\n",
       "    </tr>\n",
       "    <tr>\n",
       "      <th>1899</th>\n",
       "      <td>2016-04-12 23:30:00</td>\n",
       "      <td>21.389978</td>\n",
       "      <td>2016-04-12 23:30:00</td>\n",
       "      <td>17.844842</td>\n",
       "      <td>IOPT_DIAT_42</td>\n",
       "    </tr>\n",
       "    <tr>\n",
       "      <th>1900</th>\n",
       "      <td>2016-04-12 23:30:00</td>\n",
       "      <td>24.100256</td>\n",
       "      <td>2016-04-12 23:30:00</td>\n",
       "      <td>19.783106</td>\n",
       "      <td>IOPT_DIAT_42</td>\n",
       "    </tr>\n",
       "    <tr>\n",
       "      <th>1901</th>\n",
       "      <td>2016-04-12 23:30:00</td>\n",
       "      <td>28.229916</td>\n",
       "      <td>2016-04-12 23:30:00</td>\n",
       "      <td>21.978578</td>\n",
       "      <td>IOPT_DIAT_42</td>\n",
       "    </tr>\n",
       "    <tr>\n",
       "      <th>1902</th>\n",
       "      <td>2016-04-12 23:30:00</td>\n",
       "      <td>34.685757</td>\n",
       "      <td>2016-04-12 23:30:00</td>\n",
       "      <td>24.191177</td>\n",
       "      <td>IOPT_DIAT_42</td>\n",
       "    </tr>\n",
       "    <tr>\n",
       "      <th>1903</th>\n",
       "      <td>2016-04-12 23:30:00</td>\n",
       "      <td>44.517723</td>\n",
       "      <td>2016-04-12 23:30:00</td>\n",
       "      <td>26.089551</td>\n",
       "      <td>IOPT_DIAT_42</td>\n",
       "    </tr>\n",
       "    <tr>\n",
       "      <th>1904</th>\n",
       "      <td>2016-04-12 23:30:00</td>\n",
       "      <td>58.484333</td>\n",
       "      <td>2016-04-12 23:30:00</td>\n",
       "      <td>27.568494</td>\n",
       "      <td>IOPT_DIAT_42</td>\n",
       "    </tr>\n",
       "    <tr>\n",
       "      <th>1905</th>\n",
       "      <td>2016-04-12 23:30:00</td>\n",
       "      <td>76.585587</td>\n",
       "      <td>2016-04-12 23:30:00</td>\n",
       "      <td>28.797396</td>\n",
       "      <td>IOPT_DIAT_42</td>\n",
       "    </tr>\n",
       "    <tr>\n",
       "      <th>1906</th>\n",
       "      <td>2016-04-12 23:30:00</td>\n",
       "      <td>98.062958</td>\n",
       "      <td>2016-04-12 23:30:00</td>\n",
       "      <td>29.944437</td>\n",
       "      <td>IOPT_DIAT_42</td>\n",
       "    </tr>\n",
       "    <tr>\n",
       "      <th>1907</th>\n",
       "      <td>2016-04-12 23:30:00</td>\n",
       "      <td>121.866516</td>\n",
       "      <td>2016-04-12 23:30:00</td>\n",
       "      <td>31.001501</td>\n",
       "      <td>IOPT_DIAT_42</td>\n",
       "    </tr>\n",
       "    <tr>\n",
       "      <th>1908</th>\n",
       "      <td>2016-04-12 23:30:00</td>\n",
       "      <td>147.089462</td>\n",
       "      <td>2016-04-12 23:30:00</td>\n",
       "      <td>31.909937</td>\n",
       "      <td>IOPT_DIAT_42</td>\n",
       "    </tr>\n",
       "    <tr>\n",
       "      <th>1909</th>\n",
       "      <td>2016-04-12 23:30:00</td>\n",
       "      <td>173.114487</td>\n",
       "      <td>2016-04-12 23:30:00</td>\n",
       "      <td>32.749400</td>\n",
       "      <td>IOPT_DIAT_42</td>\n",
       "    </tr>\n",
       "    <tr>\n",
       "      <th>1910</th>\n",
       "      <td>2016-04-12 23:30:00</td>\n",
       "      <td>199.573044</td>\n",
       "      <td>2016-04-12 23:30:00</td>\n",
       "      <td>33.508556</td>\n",
       "      <td>IOPT_DIAT_42</td>\n",
       "    </tr>\n",
       "    <tr>\n",
       "      <th>1911</th>\n",
       "      <td>2016-04-12 23:30:00</td>\n",
       "      <td>226.260300</td>\n",
       "      <td>2016-04-12 23:30:00</td>\n",
       "      <td>34.428200</td>\n",
       "      <td>IOPT_DIAT_42</td>\n",
       "    </tr>\n",
       "    <tr>\n",
       "      <th>1912</th>\n",
       "      <td>2016-04-12 23:30:00</td>\n",
       "      <td>253.066635</td>\n",
       "      <td>2016-04-12 23:30:00</td>\n",
       "      <td>35.240501</td>\n",
       "      <td>IOPT_DIAT_42</td>\n",
       "    </tr>\n",
       "    <tr>\n",
       "      <th>1913</th>\n",
       "      <td>2016-04-12 23:30:00</td>\n",
       "      <td>279.934540</td>\n",
       "      <td>2016-04-12 23:30:00</td>\n",
       "      <td>36.002680</td>\n",
       "      <td>IOPT_DIAT_42</td>\n",
       "    </tr>\n",
       "    <tr>\n",
       "      <th>1914</th>\n",
       "      <td>2016-04-12 23:30:00</td>\n",
       "      <td>306.834198</td>\n",
       "      <td>2016-04-12 23:30:00</td>\n",
       "      <td>36.545321</td>\n",
       "      <td>IOPT_DIAT_42</td>\n",
       "    </tr>\n",
       "    <tr>\n",
       "      <th>1915</th>\n",
       "      <td>2016-04-12 23:30:00</td>\n",
       "      <td>333.750183</td>\n",
       "      <td>2016-04-12 23:30:00</td>\n",
       "      <td>36.801954</td>\n",
       "      <td>IOPT_DIAT_42</td>\n",
       "    </tr>\n",
       "    <tr>\n",
       "      <th>1916</th>\n",
       "      <td>2016-04-12 23:30:00</td>\n",
       "      <td>360.674530</td>\n",
       "      <td>2016-04-12 23:30:00</td>\n",
       "      <td>37.012192</td>\n",
       "      <td>IOPT_DIAT_42</td>\n",
       "    </tr>\n",
       "    <tr>\n",
       "      <th>1917</th>\n",
       "      <td>2016-04-12 23:30:00</td>\n",
       "      <td>387.603210</td>\n",
       "      <td>2016-04-12 23:30:00</td>\n",
       "      <td>37.074555</td>\n",
       "      <td>IOPT_DIAT_42</td>\n",
       "    </tr>\n",
       "    <tr>\n",
       "      <th>1918</th>\n",
       "      <td>2016-04-12 23:30:00</td>\n",
       "      <td>414.534088</td>\n",
       "      <td>2016-04-12 23:30:00</td>\n",
       "      <td>37.063028</td>\n",
       "      <td>IOPT_DIAT_42</td>\n",
       "    </tr>\n",
       "    <tr>\n",
       "      <th>1919</th>\n",
       "      <td>2016-04-12 23:30:00</td>\n",
       "      <td>441.466095</td>\n",
       "      <td>2016-04-12 23:30:00</td>\n",
       "      <td>NaN</td>\n",
       "      <td>IOPT_DIAT_42</td>\n",
       "    </tr>\n",
       "  </tbody>\n",
       "</table>\n",
       "<p>1920 rows × 5 columns</p>\n",
       "</div>"
      ],
      "text/plain": [
       "            time_counter      deptht       time_centered   MEAN_NO3  \\\n",
       "0    2016-04-12 00:30:00    0.500000 2016-04-12 00:30:00   5.214778   \n",
       "1    2016-04-12 00:30:00    1.500003 2016-04-12 00:30:00   5.452885   \n",
       "2    2016-04-12 00:30:00    2.500011 2016-04-12 00:30:00   5.486822   \n",
       "3    2016-04-12 00:30:00    3.500031 2016-04-12 00:30:00   5.594474   \n",
       "4    2016-04-12 00:30:00    4.500071 2016-04-12 00:30:00   5.920553   \n",
       "5    2016-04-12 00:30:00    5.500151 2016-04-12 00:30:00   6.151240   \n",
       "6    2016-04-12 00:30:00    6.500310 2016-04-12 00:30:00   6.447138   \n",
       "7    2016-04-12 00:30:00    7.500623 2016-04-12 00:30:00   6.792811   \n",
       "8    2016-04-12 00:30:00    8.501236 2016-04-12 00:30:00   7.200050   \n",
       "9    2016-04-12 00:30:00    9.502433 2016-04-12 00:30:00   7.727039   \n",
       "10   2016-04-12 00:30:00   10.504766 2016-04-12 00:30:00   8.421840   \n",
       "11   2016-04-12 00:30:00   11.509312 2016-04-12 00:30:00   9.241469   \n",
       "12   2016-04-12 00:30:00   12.518167 2016-04-12 00:30:00  10.177139   \n",
       "13   2016-04-12 00:30:00   13.535412 2016-04-12 00:30:00  11.197317   \n",
       "14   2016-04-12 00:30:00   14.568982 2016-04-12 00:30:00  12.282061   \n",
       "15   2016-04-12 00:30:00   15.634288 2016-04-12 00:30:00  13.473866   \n",
       "16   2016-04-12 00:30:00   16.761173 2016-04-12 00:30:00  14.781768   \n",
       "17   2016-04-12 00:30:00   18.007135 2016-04-12 00:30:00  16.144154   \n",
       "18   2016-04-12 00:30:00   19.481785 2016-04-12 00:30:00  17.475997   \n",
       "19   2016-04-12 00:30:00   21.389978 2016-04-12 00:30:00  18.891814   \n",
       "20   2016-04-12 00:30:00   24.100256 2016-04-12 00:30:00  20.516083   \n",
       "21   2016-04-12 00:30:00   28.229916 2016-04-12 00:30:00  22.333914   \n",
       "22   2016-04-12 00:30:00   34.685757 2016-04-12 00:30:00  24.324998   \n",
       "23   2016-04-12 00:30:00   44.517723 2016-04-12 00:30:00  26.184282   \n",
       "24   2016-04-12 00:30:00   58.484333 2016-04-12 00:30:00  27.685490   \n",
       "25   2016-04-12 00:30:00   76.585587 2016-04-12 00:30:00  28.915714   \n",
       "26   2016-04-12 00:30:00   98.062958 2016-04-12 00:30:00  29.956416   \n",
       "27   2016-04-12 00:30:00  121.866516 2016-04-12 00:30:00  30.934335   \n",
       "28   2016-04-12 00:30:00  147.089462 2016-04-12 00:30:00  31.828866   \n",
       "29   2016-04-12 00:30:00  173.114487 2016-04-12 00:30:00  32.697370   \n",
       "...                  ...         ...                 ...        ...   \n",
       "1890 2016-04-12 23:30:00   10.504766 2016-04-12 23:30:00   8.792402   \n",
       "1891 2016-04-12 23:30:00   11.509312 2016-04-12 23:30:00   9.443269   \n",
       "1892 2016-04-12 23:30:00   12.518167 2016-04-12 23:30:00  10.178115   \n",
       "1893 2016-04-12 23:30:00   13.535412 2016-04-12 23:30:00  10.986300   \n",
       "1894 2016-04-12 23:30:00   14.568982 2016-04-12 23:30:00  11.851626   \n",
       "1895 2016-04-12 23:30:00   15.634288 2016-04-12 23:30:00  12.771132   \n",
       "1896 2016-04-12 23:30:00   16.761173 2016-04-12 23:30:00  13.818082   \n",
       "1897 2016-04-12 23:30:00   18.007135 2016-04-12 23:30:00  15.014769   \n",
       "1898 2016-04-12 23:30:00   19.481785 2016-04-12 23:30:00  16.283267   \n",
       "1899 2016-04-12 23:30:00   21.389978 2016-04-12 23:30:00  17.844842   \n",
       "1900 2016-04-12 23:30:00   24.100256 2016-04-12 23:30:00  19.783106   \n",
       "1901 2016-04-12 23:30:00   28.229916 2016-04-12 23:30:00  21.978578   \n",
       "1902 2016-04-12 23:30:00   34.685757 2016-04-12 23:30:00  24.191177   \n",
       "1903 2016-04-12 23:30:00   44.517723 2016-04-12 23:30:00  26.089551   \n",
       "1904 2016-04-12 23:30:00   58.484333 2016-04-12 23:30:00  27.568494   \n",
       "1905 2016-04-12 23:30:00   76.585587 2016-04-12 23:30:00  28.797396   \n",
       "1906 2016-04-12 23:30:00   98.062958 2016-04-12 23:30:00  29.944437   \n",
       "1907 2016-04-12 23:30:00  121.866516 2016-04-12 23:30:00  31.001501   \n",
       "1908 2016-04-12 23:30:00  147.089462 2016-04-12 23:30:00  31.909937   \n",
       "1909 2016-04-12 23:30:00  173.114487 2016-04-12 23:30:00  32.749400   \n",
       "1910 2016-04-12 23:30:00  199.573044 2016-04-12 23:30:00  33.508556   \n",
       "1911 2016-04-12 23:30:00  226.260300 2016-04-12 23:30:00  34.428200   \n",
       "1912 2016-04-12 23:30:00  253.066635 2016-04-12 23:30:00  35.240501   \n",
       "1913 2016-04-12 23:30:00  279.934540 2016-04-12 23:30:00  36.002680   \n",
       "1914 2016-04-12 23:30:00  306.834198 2016-04-12 23:30:00  36.545321   \n",
       "1915 2016-04-12 23:30:00  333.750183 2016-04-12 23:30:00  36.801954   \n",
       "1916 2016-04-12 23:30:00  360.674530 2016-04-12 23:30:00  37.012192   \n",
       "1917 2016-04-12 23:30:00  387.603210 2016-04-12 23:30:00  37.074555   \n",
       "1918 2016-04-12 23:30:00  414.534088 2016-04-12 23:30:00  37.063028   \n",
       "1919 2016-04-12 23:30:00  441.466095 2016-04-12 23:30:00        NaN   \n",
       "\n",
       "       DATA_SOURCE  \n",
       "0     IOPT_DIAT_55  \n",
       "1     IOPT_DIAT_55  \n",
       "2     IOPT_DIAT_55  \n",
       "3     IOPT_DIAT_55  \n",
       "4     IOPT_DIAT_55  \n",
       "5     IOPT_DIAT_55  \n",
       "6     IOPT_DIAT_55  \n",
       "7     IOPT_DIAT_55  \n",
       "8     IOPT_DIAT_55  \n",
       "9     IOPT_DIAT_55  \n",
       "10    IOPT_DIAT_55  \n",
       "11    IOPT_DIAT_55  \n",
       "12    IOPT_DIAT_55  \n",
       "13    IOPT_DIAT_55  \n",
       "14    IOPT_DIAT_55  \n",
       "15    IOPT_DIAT_55  \n",
       "16    IOPT_DIAT_55  \n",
       "17    IOPT_DIAT_55  \n",
       "18    IOPT_DIAT_55  \n",
       "19    IOPT_DIAT_55  \n",
       "20    IOPT_DIAT_55  \n",
       "21    IOPT_DIAT_55  \n",
       "22    IOPT_DIAT_55  \n",
       "23    IOPT_DIAT_55  \n",
       "24    IOPT_DIAT_55  \n",
       "25    IOPT_DIAT_55  \n",
       "26    IOPT_DIAT_55  \n",
       "27    IOPT_DIAT_55  \n",
       "28    IOPT_DIAT_55  \n",
       "29    IOPT_DIAT_55  \n",
       "...            ...  \n",
       "1890  IOPT_DIAT_42  \n",
       "1891  IOPT_DIAT_42  \n",
       "1892  IOPT_DIAT_42  \n",
       "1893  IOPT_DIAT_42  \n",
       "1894  IOPT_DIAT_42  \n",
       "1895  IOPT_DIAT_42  \n",
       "1896  IOPT_DIAT_42  \n",
       "1897  IOPT_DIAT_42  \n",
       "1898  IOPT_DIAT_42  \n",
       "1899  IOPT_DIAT_42  \n",
       "1900  IOPT_DIAT_42  \n",
       "1901  IOPT_DIAT_42  \n",
       "1902  IOPT_DIAT_42  \n",
       "1903  IOPT_DIAT_42  \n",
       "1904  IOPT_DIAT_42  \n",
       "1905  IOPT_DIAT_42  \n",
       "1906  IOPT_DIAT_42  \n",
       "1907  IOPT_DIAT_42  \n",
       "1908  IOPT_DIAT_42  \n",
       "1909  IOPT_DIAT_42  \n",
       "1910  IOPT_DIAT_42  \n",
       "1911  IOPT_DIAT_42  \n",
       "1912  IOPT_DIAT_42  \n",
       "1913  IOPT_DIAT_42  \n",
       "1914  IOPT_DIAT_42  \n",
       "1915  IOPT_DIAT_42  \n",
       "1916  IOPT_DIAT_42  \n",
       "1917  IOPT_DIAT_42  \n",
       "1918  IOPT_DIAT_42  \n",
       "1919  IOPT_DIAT_42  \n",
       "\n",
       "[1920 rows x 5 columns]"
      ]
     },
     "execution_count": 36,
     "metadata": {},
     "output_type": "execute_result"
    }
   ],
   "source": [
    "combined"
   ]
  },
  {
   "cell_type": "code",
   "execution_count": null,
   "metadata": {
    "collapsed": true
   },
   "outputs": [],
   "source": [
    "\n"
   ]
  }
 ],
 "metadata": {
  "kernelspec": {
   "display_name": "Python 3",
   "language": "python",
   "name": "python3"
  },
  "language_info": {
   "codemirror_mode": {
    "name": "ipython",
    "version": 3
   },
   "file_extension": ".py",
   "mimetype": "text/x-python",
   "name": "python",
   "nbconvert_exporter": "python",
   "pygments_lexer": "ipython3",
   "version": "3.5.2"
  }
 },
 "nbformat": 4,
 "nbformat_minor": 0
}
