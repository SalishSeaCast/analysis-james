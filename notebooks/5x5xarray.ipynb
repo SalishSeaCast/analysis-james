{
 "cells": [
  {
   "cell_type": "code",
   "execution_count": 2,
   "metadata": {
    "collapsed": true
   },
   "outputs": [],
   "source": [
    "import numpy as np\n",
    "import xarray as xr\n",
    "import math\n",
    "import matplotlib.pyplot as plt\n",
    "\n",
    "%matplotlib inline"
   ]
  },
  {
   "cell_type": "code",
   "execution_count": 4,
   "metadata": {
    "collapsed": false
   },
   "outputs": [],
   "source": [
    "ds = xr.open_dataset('/data/jpetrie/MEOPAR/SalishSea/results/d9f69a38-160e-11e6-9b98-0025909a8461/SS5x5_1h_20041019_20041023_ptrc_T.nc')"
   ]
  },
  {
   "cell_type": "code",
   "execution_count": 5,
   "metadata": {
    "collapsed": false
   },
   "outputs": [
    {
     "name": "stdout",
     "output_type": "stream",
     "text": [
      "<xarray.Dataset>\n",
      "Dimensions:               (axis_nbounds: 2, deptht: 40, time_counter: 120, x: 5, y: 5)\n",
      "Coordinates:\n",
      "    nav_lat               (y, x) float32 -0.5 -0.5 -0.5 -0.5 -0.5 0.0 0.0 ...\n",
      "    nav_lon               (y, x) float32 0.0 0.5 1.0 1.5 2.0 0.0 0.5 1.0 1.5 ...\n",
      "  * deptht                (deptht) float32 1.28205 3.84615 6.41026 8.97436 ...\n",
      "    time_centered         (time_counter) datetime64[ns] 2004-10-19T00:30:00 ...\n",
      "  * time_counter          (time_counter) datetime64[ns] 2004-10-19T00:30:00 ...\n",
      "  * axis_nbounds          (axis_nbounds) int64 0 1\n",
      "  * x                     (x) int64 0 1 2 3 4\n",
      "  * y                     (y) int64 0 1 2 3 4\n",
      "Data variables:\n",
      "    deptht_bounds         (deptht, axis_nbounds) float32 0.0 2.5641 2.5641 ...\n",
      "    NO3                   (time_counter, deptht, y, x) float64 0.0 0.0 0.0 ...\n",
      "    time_centered_bounds  (time_counter, axis_nbounds) float64 3.307e+09 ...\n",
      "    time_counter_bounds   (time_counter, axis_nbounds) float64 3.307e+09 ...\n",
      "    NH4                   (time_counter, deptht, y, x) float64 0.0 0.0 0.0 ...\n",
      "    Si                    (time_counter, deptht, y, x) float64 0.0 0.0 0.0 ...\n",
      "    PHY2                  (time_counter, deptht, y, x) float64 0.0 0.0 0.0 ...\n",
      "    PHY                   (time_counter, deptht, y, x) float64 0.0 0.0 0.0 ...\n",
      "    MYRI                  (time_counter, deptht, y, x) float64 0.0 0.0 0.0 ...\n",
      "    MICZ                  (time_counter, deptht, y, x) float64 0.0 0.0 0.0 ...\n",
      "    DOC                   (time_counter, deptht, y, x) float64 0.0 0.0 0.0 ...\n",
      "    POC                   (time_counter, deptht, y, x) float64 0.0 0.0 0.0 ...\n",
      "    bSi                   (time_counter, deptht, y, x) float64 0.0 0.0 0.0 ...\n",
      "    O2                    (time_counter, deptht, y, x) float64 0.0 0.0 0.0 ...\n",
      "Attributes:\n",
      "    name: SS5x5_1h_20041019_20041023\n",
      "    description: sog variables\n",
      "    title: sog variables\n",
      "    Conventions: CF-1.5\n",
      "    production: An IPSL model\n",
      "    timeStamp: 2016-May-09 10:52:56 PDT\n"
     ]
    }
   ],
   "source": [
    "print(ds)"
   ]
  },
  {
   "cell_type": "code",
   "execution_count": 9,
   "metadata": {
    "collapsed": false
   },
   "outputs": [
    {
     "name": "stdout",
     "output_type": "stream",
     "text": [
      "Frozen(SortedKeysDict({'x': 5, 'y': 5, 'axis_nbounds': 2, 'deptht': 40, 'time_counter': 120}))\n",
      "40\n"
     ]
    }
   ],
   "source": [
    "print(ds.dims)\n",
    "print(ds.dims['deptht'])"
   ]
  },
  {
   "cell_type": "code",
   "execution_count": 10,
   "metadata": {
    "collapsed": false
   },
   "outputs": [
    {
     "data": {
      "text/plain": [
       "Data variables:\n",
       "    deptht_bounds         (deptht, axis_nbounds) float32 0.0 2.5641 2.5641 ...\n",
       "    NO3                   (time_counter, deptht, y, x) float64 0.0 0.0 0.0 ...\n",
       "    time_centered_bounds  (time_counter, axis_nbounds) float64 3.307e+09 ...\n",
       "    time_counter_bounds   (time_counter, axis_nbounds) float64 3.307e+09 ...\n",
       "    NH4                   (time_counter, deptht, y, x) float64 0.0 0.0 0.0 ...\n",
       "    Si                    (time_counter, deptht, y, x) float64 0.0 0.0 0.0 ...\n",
       "    PHY2                  (time_counter, deptht, y, x) float64 0.0 0.0 0.0 ...\n",
       "    PHY                   (time_counter, deptht, y, x) float64 0.0 0.0 0.0 ...\n",
       "    MYRI                  (time_counter, deptht, y, x) float64 0.0 0.0 0.0 ...\n",
       "    MICZ                  (time_counter, deptht, y, x) float64 0.0 0.0 0.0 ...\n",
       "    DOC                   (time_counter, deptht, y, x) float64 0.0 0.0 0.0 ...\n",
       "    POC                   (time_counter, deptht, y, x) float64 0.0 0.0 0.0 ...\n",
       "    bSi                   (time_counter, deptht, y, x) float64 0.0 0.0 0.0 ...\n",
       "    O2                    (time_counter, deptht, y, x) float64 0.0 0.0 0.0 ..."
      ]
     },
     "execution_count": 10,
     "metadata": {},
     "output_type": "execute_result"
    }
   ],
   "source": [
    "ds.data_vars"
   ]
  },
  {
   "cell_type": "code",
   "execution_count": 21,
   "metadata": {
    "collapsed": false
   },
   "outputs": [
    {
     "data": {
      "text/plain": [
       "array([[-0.5, -0.5, -0.5, -0.5, -0.5],\n",
       "       [ 0. ,  0. ,  0. ,  0. ,  0. ],\n",
       "       [ 0.5,  0.5,  0.5,  0.5,  0.5],\n",
       "       [ 1. ,  1. ,  1. ,  1. ,  1. ],\n",
       "       [ 1.5,  1.5,  1.5,  1.5,  1.5]], dtype=float32)"
      ]
     },
     "execution_count": 21,
     "metadata": {},
     "output_type": "execute_result"
    }
   ],
   "source": [
    "ds.coords['nav_lat'].values"
   ]
  },
  {
   "cell_type": "code",
   "execution_count": 16,
   "metadata": {
    "collapsed": false
   },
   "outputs": [
    {
     "data": {
      "text/plain": [
       "OrderedDict([('name', 'SS5x5_1h_20041019_20041023'),\n",
       "             ('description', 'sog variables'),\n",
       "             ('title', 'sog variables'),\n",
       "             ('Conventions', 'CF-1.5'),\n",
       "             ('production', 'An IPSL model'),\n",
       "             ('timeStamp', '2016-May-09 10:52:56 PDT')])"
      ]
     },
     "execution_count": 16,
     "metadata": {},
     "output_type": "execute_result"
    }
   ],
   "source": [
    "ds.attrs"
   ]
  },
  {
   "cell_type": "code",
   "execution_count": 10,
   "metadata": {
    "collapsed": false
   },
   "outputs": [
    {
     "data": {
      "text/plain": [
       "array([   4.    ,    5.375 ,    8.375 , ...,  133.1875,    8.25  ,    7.625 ])"
      ]
     },
     "execution_count": 10,
     "metadata": {},
     "output_type": "execute_result"
    }
   ],
   "source": []
  },
  {
   "cell_type": "code",
   "execution_count": 50,
   "metadata": {
    "collapsed": false
   },
   "outputs": [
    {
     "data": {
      "image/png": "[encoded data removed]",
      "text/plain": [
       "<matplotlib.figure.Figure at 0x7fadca7605c0>"
      ]
     },
     "metadata": {},
     "output_type": "display_data"
    }
   ],
   "source": [
    "data_subset = ds.POC.values[:,:,2,2].T\n",
    "\n",
    "fig, ax = plt.subplots(1, 1,figsize=(15,15))\n",
    "mesh = ax.pcolormesh(data_subset)\n",
    "fig.colorbar(mesh)\n",
    "mesh.set_clim(vmin=data_subset.min(), vmax=data_subset.max())"
   ]
  },
  {
   "cell_type": "code",
   "execution_count": 46,
   "metadata": {
    "collapsed": false
   },
   "outputs": [
    {
     "data": {
      "text/plain": [
       "1.0276473760604858"
      ]
     },
     "execution_count": 46,
     "metadata": {},
     "output_type": "execute_result"
    }
   ],
   "source": [
    "data_subset.max()"
   ]
  }
 ],
 "metadata": {
  "kernelspec": {
   "display_name": "Python 3",
   "language": "python",
   "name": "python3"
  },
  "language_info": {
   "codemirror_mode": {
    "name": "ipython",
    "version": 3
   },
   "file_extension": ".py",
   "mimetype": "text/x-python",
   "name": "python",
   "nbconvert_exporter": "python",
   "pygments_lexer": "ipython3",
   "version": "3.5.1"
  }
 },
 "nbformat": 4,
 "nbformat_minor": 0
}
