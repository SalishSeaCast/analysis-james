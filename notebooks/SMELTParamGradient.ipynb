{
 "cells": [
  {
   "cell_type": "code",
   "execution_count": 49,
   "metadata": {
    "collapsed": false
   },
   "outputs": [],
   "source": [
    "import f90nml as nml\n",
    "import numpy as np\n",
    "import xarray as xr\n",
    "import math\n",
    "import matplotlib.pyplot as plt\n",
    "\n",
    "%matplotlib inline"
   ]
  },
  {
   "cell_type": "code",
   "execution_count": null,
   "metadata": {
    "collapsed": true
   },
   "outputs": [],
   "source": [
    "def SmeltResultDif(result_1_dir, result_2_dir, tracer_filename = 'SS5x5_1h_20041019_20041023_ptrc_T.nc'):\n",
    "    ds1 = xr.open_dataset(result_1_dir + '/' +tracer_filename)\n",
    "    ds2 = xr.open_dataset(result_2_dir +'/' + tracer_filename)\n",
    "    \n",
    "    #Picked MICZ pretty much arbitrarily\n",
    "    dif = ((np.square(ds1.MICZ.values - ds2.MICZ.values)).sum())**0.5\n",
    "    return(dif)"
   ]
  },
  {
   "cell_type": "code",
   "execution_count": 58,
   "metadata": {
    "collapsed": false
   },
   "outputs": [],
   "source": [
    "reference_namelist = '/data/jpetrie/MEOPAR/SalishSea/results/d9f69a38-160e-11e6-9b98-0025909a8461/namelist_pisces_cfg'\n",
    "new_namelist_directory = '/data/jpetrie/MEOPAR/SS-run-sets/SS-SMELT/namelists/modified_namelists/'\n",
    "reference_result = '/data/jpetrie/MEOPAR/SalishSea/results/d9f69a38-160e-11e6-9b98-0025909a8461'"
   ]
  },
  {
   "cell_type": "code",
   "execution_count": null,
   "metadata": {
    "collapsed": true
   },
   "outputs": [],
   "source": [
    "nml = f90nml.read(reference_namelist)"
   ]
  },
  {
   "cell_type": "code",
   "execution_count": 60,
   "metadata": {
    "collapsed": true
   },
   "outputs": [
    {
     "name": "stdout",
     "output_type": "stream",
     "text": [
      "nrdttrc\n",
      "zz_rate_r_diat\n",
      "zz_rate_r_myri\n",
      "zz_rate_r_nano\n",
      "zz_rate_maxtemp_diat\n",
      "zz_rate_maxtemp_myri\n",
      "zz_rate_maxtemp_nano\n",
      "zz_rate_temprange_diat\n",
      "zz_rate_temprange_myri\n",
      "zz_rate_temprange_nano\n",
      "zz_rate_iopt_diat\n",
      "zz_rate_iopt_myri\n",
      "zz_rate_iopt_nano\n",
      "zz_rate_gamma_diat\n",
      "zz_rate_gamma_myri\n",
      "zz_rate_gamma_nano\n",
      "zz_rate_k_si_diat\n",
      "zz_rate_k_si_myri\n",
      "zz_rate_k_si_nano\n",
      "zz_rate_gamma_o_diat\n",
      "zz_rate_gamma_o_myri\n",
      "zz_rate_gamma_o_nano\n",
      "zz_rate_kapa_diat\n",
      "zz_rate_kapa_myri\n",
      "zz_rate_kapa_nano\n",
      "zz_rate_k_diat\n",
      "zz_rate_k_myri\n",
      "zz_rate_k_nano\n",
      "zz_rate_n_x_diat\n",
      "zz_rate_n_x_myri\n",
      "zz_rate_n_x_nano\n",
      "zz_rate_n_o_diat\n",
      "zz_rate_n_o_myri\n",
      "zz_rate_n_o_nano\n",
      "zz_rate_si_ratio_diat\n",
      "zz_rate_si_ratio_myri\n",
      "zz_rate_si_ratio_nano\n"
     ]
    }
   ],
   "source": [
    "grad = dict.fromkeys(nml, 0) # create dictionary filled with zeros \n",
    "step_size = 1e-6\n",
    "\n",
    "for paramtype in nml:\n",
    "    for param in nml[paramtype]:\n",
    "        print(param)\n",
    "        #some values are lists- need something different for them\n",
    "        patch_nml = {paramtype: {param: nml[paramtype][param] + step_size}} \n",
    "        modified_nml_file = new_namelist_directory + 'mod_' + paramtype + '_' + param\n",
    "        f90nml.patch(source_namelist,patch_nml, modified_nml_file)\n",
    "        #### Call Salishsea using new namelist\n",
    "        \n",
    "        dif = SmeltResultDif(reference_result, new_result)\n",
    "        grad[paramtype][param] = dif/step_size\n"
   ]
  }
 ],
 "metadata": {
  "kernelspec": {
   "display_name": "Python 3",
   "language": "python",
   "name": "python3"
  },
  "language_info": {
   "codemirror_mode": {
    "name": "ipython",
    "version": 3
   },
   "file_extension": ".py",
   "mimetype": "text/x-python",
   "name": "python",
   "nbconvert_exporter": "python",
   "pygments_lexer": "ipython3",
   "version": "3.5.1"
  }
 },
 "nbformat": 4,
 "nbformat_minor": 0
}
