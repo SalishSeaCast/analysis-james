{
 "cells": [
  {
   "cell_type": "code",
   "execution_count": 82,
   "metadata": {
    "collapsed": false
   },
   "outputs": [],
   "source": [
    "import f90nml as nml\n",
    "import numpy as np\n",
    "import xarray as xr\n",
    "import salishsea_cmd.api\n",
    "import yaml"
   ]
  },
  {
   "cell_type": "code",
   "execution_count": null,
   "metadata": {
    "collapsed": true
   },
   "outputs": [],
   "source": [
    "# Used to estimate a distance between two model outputs (with the same coordinate space)\n",
    "def SmeltResultDif(result_1_dir, result_2_dir, tracer_filename = 'SS5x5_1h_20041019_20041023_ptrc_T.nc'):\n",
    "    ds1 = xr.open_dataset(result_1_dir + '/' +tracer_filename)\n",
    "    ds2 = xr.open_dataset(result_2_dir +'/' + tracer_filename)\n",
    "    \n",
    "    #Picked MICZ pretty much arbitrarily\n",
    "    dif = ((np.square(ds1.MICZ.values - ds2.MICZ.values)).sum())**0.5 #RMS difference (should probably normalise by number of data points)\n",
    "    return(dif)"
   ]
  },
  {
   "cell_type": "code",
   "execution_count": 58,
   "metadata": {
    "collapsed": false
   },
   "outputs": [],
   "source": [
    "reference_namelist = '/data/jpetrie/MEOPAR/SalishSea/results/d9f69a38-160e-11e6-9b98-0025909a8461/namelist_pisces_cfg'\n",
    "new_namelist_directory = '/data/jpetrie/MEOPAR/SS-run-sets/SS-SMELT/namelists/modified_namelists/'\n",
    "reference_result = '/data/jpetrie/MEOPAR/SalishSea/results/d9f69a38-160e-11e6-9b98-0025909a8461'"
   ]
  },
  {
   "cell_type": "code",
   "execution_count": null,
   "metadata": {
    "collapsed": true
   },
   "outputs": [],
   "source": [
    "reference_nml = f90nml.read(reference_namelist) # creates a dictionary-like object with contents of namelist"
   ]
  },
  {
   "cell_type": "code",
   "execution_count": 73,
   "metadata": {
    "collapsed": true
   },
   "outputs": [
    {
     "name": "stdout",
     "output_type": "stream",
     "text": [
      "nrdttrc\n",
      "zz_rate_r_diat\n",
      "zz_rate_r_myri\n",
      "zz_rate_r_nano\n",
      "zz_rate_maxtemp_diat\n",
      "zz_rate_maxtemp_myri\n",
      "zz_rate_maxtemp_nano\n",
      "zz_rate_temprange_diat\n",
      "zz_rate_temprange_myri\n",
      "zz_rate_temprange_nano\n",
      "zz_rate_iopt_diat\n",
      "zz_rate_iopt_myri\n",
      "zz_rate_iopt_nano\n",
      "zz_rate_gamma_diat\n",
      "zz_rate_gamma_myri\n",
      "zz_rate_gamma_nano\n",
      "zz_rate_k_si_diat\n",
      "zz_rate_k_si_myri\n",
      "zz_rate_k_si_nano\n",
      "zz_rate_gamma_o_diat\n",
      "zz_rate_gamma_o_myri\n",
      "zz_rate_gamma_o_nano\n",
      "zz_rate_kapa_diat\n",
      "zz_rate_kapa_myri\n",
      "zz_rate_kapa_nano\n",
      "zz_rate_k_diat\n",
      "zz_rate_k_myri\n",
      "zz_rate_k_nano\n",
      "zz_rate_n_x_diat\n",
      "zz_rate_n_x_myri\n",
      "zz_rate_n_x_nano\n",
      "zz_rate_n_o_diat\n",
      "zz_rate_n_o_myri\n",
      "zz_rate_n_o_nano\n",
      "zz_rate_si_ratio_diat\n",
      "zz_rate_si_ratio_myri\n",
      "zz_rate_si_ratio_nano\n",
      "zz_rate_pico_rm\n",
      "zz_frac_waste_fnm_nh\n",
      "zz_frac_waste_fnm_don\n",
      "zz_frac_waste_fnm_pon\n",
      "zz_frac_waste_fnm_ref\n",
      "zz_frac_waste_fnm_bsi\n",
      "zz_rate_pico_si_ratio\n",
      "zz_rate_myri_rm\n",
      "zz_frac_waste_nnm_nh\n",
      "zz_frac_waste_nnm_don\n",
      "zz_frac_waste_nnm_pon\n",
      "zz_frac_waste_nnm_ref\n",
      "zz_frac_waste_nnm_bsi\n",
      "zz_rate_myri_si_ratio\n",
      "zz_rate_micro_rm\n",
      "zz_frac_waste_dnm_nh\n",
      "zz_frac_waste_dnm_don\n",
      "zz_frac_waste_dnm_pon\n",
      "zz_frac_waste_dnm_ref\n",
      "zz_frac_waste_dnm_bsi\n",
      "zz_rate_micro_si_ratio\n",
      "zz_rate_mesorub_r\n",
      "zz_rate_mesorub_picopredslope\n",
      "zz_rate_mesorub_picohalfsat\n",
      "zz_rate_mesorub_eff\n",
      "zz_frac_waste_fen_nh\n",
      "zz_frac_waste_fen_don\n",
      "zz_frac_waste_fen_pon\n",
      "zz_frac_waste_fen_bsi\n",
      "zz_rate_mesozoo_winterconc\n",
      "zz_rate_mesozoo_summerconc\n",
      "zz_rate_mesozoo_sumpeakval\n",
      "zz_rate_mesozoo_sumpeakpos\n",
      "zz_rate_mesozoo_sumpeakwid\n",
      "zz_rate_mesozoo_alpha\n",
      "zz_rate_mesozoo_r\n",
      "zz_rate_mesozoo_rm\n",
      "zz_rate_mesozoo_excr\n",
      "zz_rate_mesozoo_predslope\n",
      "zz_rate_mesozoo_halfsat\n",
      "zz_rate_mesozoo_micropref\n",
      "zz_rate_mesozoo_micropredslope\n",
      "zz_rate_mesozoo_microhalfsat\n",
      "zz_rate_mesozoo_nanopref\n",
      "zz_rate_mesozoo_nanopredslope\n",
      "zz_rate_mesozoo_nanohalfsat\n",
      "zz_rate_mesozoo_picopref\n",
      "zz_rate_mesozoo_picopredslope\n",
      "zz_rate_mesozoo_picohalfsat\n",
      "zz_rate_mesozoo_pon_pref\n",
      "zz_rate_mesozoo_pon_predslope\n",
      "zz_rate_mesozoo_pon_halfsat\n",
      "zz_rate_mesozoo_z_pref\n",
      "zz_rate_mesozoo_z_predslope\n",
      "zz_rate_mesozoo_z_halfsat\n",
      "zz_rate_mesozoo_eff\n",
      "zz_frac_waste_mnm_nh\n",
      "zz_frac_waste_mnm_don\n",
      "zz_frac_waste_mnm_pon\n",
      "zz_frac_waste_mnm_bsi\n",
      "zz_frac_waste_mex_nh\n",
      "zz_frac_waste_mex_don\n",
      "zz_frac_waste_mex_pon\n",
      "zz_frac_waste_mex_bsi\n",
      "zz_frac_waste_pem_nh\n",
      "zz_frac_waste_pem_don\n",
      "zz_frac_waste_pem_pon\n",
      "zz_frac_waste_pem_bsi\n",
      "zz_frac_waste_dem_nh\n",
      "zz_frac_waste_dem_don\n",
      "zz_frac_waste_dem_pon\n",
      "zz_frac_waste_dem_bsi\n",
      "zz_frac_waste_fem_nh\n",
      "zz_frac_waste_fem_don\n",
      "zz_frac_waste_fem_pon\n",
      "zz_frac_waste_fem_bsi\n",
      "zz_frac_waste_zem_nh\n",
      "zz_frac_waste_zem_don\n",
      "zz_frac_waste_zem_pon\n",
      "zz_frac_waste_zem_bsi\n",
      "zz_frac_waste_nem_nh\n",
      "zz_frac_waste_nem_don\n",
      "zz_frac_waste_nem_pon\n",
      "zz_frac_waste_nem_bsi\n",
      "zz_rate_micro_si_ratio\n",
      "zz_rate_nano_si_ratio\n",
      "zz_rate_pico_si_ratio\n",
      "zz_rate_uzoo_rm\n",
      "zz_rate_uzoo_excr\n",
      "zz_frac_waste_znm_nh\n",
      "zz_frac_waste_zex_nh\n",
      "zz_rate_uzoo_predslope\n",
      "zz_rate_uzoo_halfsat\n",
      "zz_rate_uzoo_micropref\n",
      "zz_rate_uzoo_micropredslope\n",
      "zz_rate_uzoo_microhalfsat\n",
      "zz_rate_uzoo_nanopref\n",
      "zz_rate_uzoo_nanopredslope\n",
      "zz_rate_uzoo_nanohalfsat\n",
      "zz_rate_uzoo_picopref\n",
      "zz_rate_uzoo_picopredslope\n",
      "zz_rate_uzoo_picohalfsat\n",
      "zz_rate_uzoo_pon_pref\n",
      "zz_rate_uzoo_pon_predslope\n",
      "zz_rate_uzoo_pon_halfsat\n",
      "zz_rate_uzoo_z_pref\n",
      "zz_rate_uzoo_z_predslope\n",
      "zz_rate_uzoo_z_halfsat\n",
      "zz_rate_uzoo_r\n",
      "zz_frac_waste_pez_nh\n",
      "zz_frac_waste_dez_nh\n",
      "zz_frac_waste_nez_nh\n",
      "zz_frac_waste_fez_nh\n",
      "zz_frac_waste_zez_nh\n",
      "zz_rate_uzoo_eff\n",
      "zz_frac_waste_znm_don\n",
      "zz_frac_waste_zex_don\n",
      "zz_frac_waste_dez_don\n",
      "zz_frac_waste_fez_don\n",
      "zz_frac_waste_nez_don\n",
      "zz_frac_waste_pez_don\n",
      "zz_frac_waste_zez_don\n",
      "zz_frac_waste_znm_pon\n",
      "zz_frac_waste_zex_pon\n",
      "zz_frac_waste_dez_pon\n",
      "zz_frac_waste_fez_pon\n",
      "zz_frac_waste_nez_pon\n",
      "zz_frac_waste_pez_pon\n",
      "zz_frac_waste_zez_pon\n",
      "zz_frac_waste_znm_bsi\n",
      "zz_frac_waste_zex_bsi\n",
      "zz_frac_waste_dez_bsi\n",
      "zz_frac_waste_fez_bsi\n",
      "zz_frac_waste_nez_bsi\n",
      "zz_frac_waste_pez_bsi\n",
      "zz_frac_waste_zez_bsi\n",
      "zz_rate_micro_si_ratio\n",
      "zz_rate_nano_si_ratio\n",
      "zz_rate_pico_si_ratio\n",
      "zz_remin_nh\n",
      "zz_remin_d_don\n",
      "zz_remin_d_pon\n",
      "zz_remin_d_bsi\n",
      "ln_pisdmp\n",
      "ln_check_mass\n",
      "zzq_o\n",
      "zzalbedo\n",
      "zzialpha\n",
      "zzibeta\n",
      "zzigamma\n",
      "zzisigma\n",
      "zzitheta\n",
      "zzidl\n",
      "zzn2chl\n",
      "zz_w_sink_pmicro_min\n",
      "zz_w_sink_pmicro_max\n",
      "zz_w_sink_d_pon\n",
      "zz_w_sink_d_bsi\n"
     ]
    }
   ],
   "source": [
    "grad = dict.fromkeys(nml, 0) # create dictionary filled with zeros \n",
    "step_size = 1e-6\n",
    "\n",
    "# Calculate gradient\n",
    "for paramtype in reference_nml:\n",
    "    for param in reference_nml[paramtype]:\n",
    "        print(paramtype + \"  \" + param)\n",
    "        \n",
    "        if(not isinstance(reference_nml[paramtype][param],list)):\n",
    "            #some values are lists- need something different for them\n",
    "            patch_nml = {paramtype: {param: reference_nml[paramtype][param] + step_size}} # change parameter slightly \n",
    "            modified_nml_file = new_namelist_directory + 'mod_' + paramtype + '_' + param\n",
    "\n",
    "            # creates a new namelist file identical to original, but with the value specified by patch_nml changed\n",
    "            f90nml.patch(source_namelist,patch_nml, modified_nml_file) \n",
    "            #### Call Salishsea using new namelist\n",
    "\n",
    "            #dif = SmeltResultDif(reference_result, new_result)\n",
    "            #grad[paramtype][param] = dif/step_size\n"
   ]
  },
  {
   "cell_type": "code",
   "execution_count": 71,
   "metadata": {
    "collapsed": false
   },
   "outputs": [
    {
     "data": {
      "text/plain": [
       "True"
      ]
     },
     "execution_count": 71,
     "metadata": {},
     "output_type": "execute_result"
    }
   ],
   "source": [
    "isinstance(nml['nampismezo']['zz_rate_mesozoo_sumpeakwid'], list) "
   ]
  },
  {
   "cell_type": "code",
   "execution_count": 92,
   "metadata": {
    "collapsed": false
   },
   "outputs": [],
   "source": [
    "stream = open('/data/jpetrie/MEOPAR/SS-run-sets/SS-SMELT/jpetrie/SMELT5x5test.yaml', 'r')    # 'document.yaml' contains a single YAML document.\n",
    "\n",
    "run_desc = yaml.load(stream)"
   ]
  },
  {
   "cell_type": "code",
   "execution_count": 96,
   "metadata": {
    "collapsed": false
   },
   "outputs": [
    {
     "data": {
      "text/plain": [
       "{'MPI decomposition': '1x1',\n",
       " 'config_name': 'SOG5x5test',\n",
       " 'email': 'jpetrie@eos.ubc.ca',\n",
       " 'forcing': {'initial_green': {'link to': 'initial_green/'},\n",
       "  'initial_strat': {'link to': 'initial_strat/'}},\n",
       " 'grid': {'bathymetry': 'bathy_downonegrid.nc',\n",
       "  'coordinates': 'coordinates_seagrid_SalishSea.nc'},\n",
       " 'namelists': {'namelist_cfg': ['/data/jpetrie/MEOPAR/SS-run-sets/SS-SMELT/namelists/namelist_cfg_5x5_NewIC'],\n",
       "  'namelist_pisces_cfg': ['/data/jpetrie/MEOPAR/SS-run-sets/SS-SMELT/namelists/namelist_pisces_cfg_5x5_NewIC'],\n",
       "  'namelist_top_cfg': ['/data/jpetrie/MEOPAR/SS-run-sets/SS-SMELT/namelists/namelist_top_cfg_5x5_NewIC']},\n",
       " 'output': {'XIOS servers': 1,\n",
       "  'domain': '/data/jpetrie/MEOPAR/SS-run-sets/SS-SMELT/iofiles/domain_def.xml',\n",
       "  'fields': '/data/jpetrie/MEOPAR/SS-run-sets/SS-SMELT/iofiles/field_def.xml',\n",
       "  'separate XIOS server': True},\n",
       " 'paths': {'NEMO-code': '/data/jpetrie/MEOPAR/NEMO-3.6-code/',\n",
       "  'XIOS': '/data/jpetrie/MEOPAR/XIOS/',\n",
       "  'forcing': '/data/jpetrie/MEOPAR/NEMO-forcing/',\n",
       "  'runs directory': '/data/jpetrie/MEOPAR/SalishSea/results/'},\n",
       " 'run_id': 'test5x5',\n",
       " 'walltime': 108000}"
      ]
     },
     "execution_count": 96,
     "metadata": {},
     "output_type": "execute_result"
    }
   ],
   "source": [
    "run_desc"
   ]
  },
  {
   "cell_type": "code",
   "execution_count": 95,
   "metadata": {
    "collapsed": false
   },
   "outputs": [
    {
     "name": "stderr",
     "output_type": "stream",
     "text": [
      "salishsea_cmd.api ERROR: subprocess ['salishsea', 'run', 'test_salishsea_api_subprocess_run.yaml', '/data/jpetrie/MEOPAR/SS-run-sets/SS-SMELT/iofiles/iodef_bio_1hr.xml', '/data/jpetrie/MEOPAR/SalishSea/results/test_salishsea_api'] failed with return code 1\n",
      "salishsea_cmd.api ERROR: salishsea_cmd.run INFO: Created run directory /data/jpetrie/MEOPAR/SalishSea/results/bf311930-170d-11e6-8bbe-10c37b4d98e4\n",
      "salishsea_cmd.api ERROR: salishsea ERROR: [Errno 2] No such file or directory: 'qsub'\n"
     ]
    }
   ],
   "source": [
    "salishsea_cmd.api.run_in_subprocess(\"test_salishsea_api\", run_desc, '/data/jpetrie/MEOPAR/SS-run-sets/SS-SMELT/iofiles/iodef_bio_1hr.xml', '/data/jpetrie/MEOPAR/SalishSea/results/test_salishsea_api')"
   ]
  }
 ],
 "metadata": {
  "kernelspec": {
   "display_name": "Python 3",
   "language": "python",
   "name": "python3"
  },
  "language_info": {
   "codemirror_mode": {
    "name": "ipython",
    "version": 3
   },
   "file_extension": ".py",
   "mimetype": "text/x-python",
   "name": "python",
   "nbconvert_exporter": "python",
   "pygments_lexer": "ipython3",
   "version": "3.5.1"
  }
 },
 "nbformat": 4,
 "nbformat_minor": 0
}
