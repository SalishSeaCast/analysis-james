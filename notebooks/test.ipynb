{
 "cells": [
  {
   "cell_type": "code",
   "execution_count": 1,
   "metadata": {
    "collapsed": true
   },
   "outputs": [],
   "source": [
    "import netCDF4 as nc\n",
    "import numpy as np\n",
    "\n",
    "from salishsea_tools import nc_tools"
   ]
  },
  {
   "cell_type": "code",
   "execution_count": 4,
   "metadata": {
    "collapsed": false
   },
   "outputs": [],
   "source": [
    "grid = nc.Dataset('/data/jpetrie/MEOPAR/NEMO-forcing/grid/bathy_meter_SalishSea2.nc')"
   ]
  },
  {
   "cell_type": "code",
   "execution_count": 5,
   "metadata": {
    "collapsed": false
   },
   "outputs": [
    {
     "name": "stdout",
     "output_type": "stream",
     "text": [
      "<class 'netCDF4._netCDF4.Dimension'>: name = 'y', size = 898\n",
      "\n",
      "<class 'netCDF4._netCDF4.Dimension'>: name = 'x', size = 398\n",
      "\n"
     ]
    }
   ],
   "source": [
    "nc_tools.show_dimensions(grid)"
   ]
  },
  {
   "cell_type": "code",
   "execution_count": 6,
   "metadata": {
    "collapsed": false
   },
   "outputs": [
    {
     "name": "stdout",
     "output_type": "stream",
     "text": [
      "odict_keys(['nav_lon', 'nav_lat', 'Bathymetry'])\n"
     ]
    }
   ],
   "source": [
    "nc_tools.show_variables(grid)"
   ]
  },
  {
   "cell_type": "code",
   "execution_count": 7,
   "metadata": {
    "collapsed": false
   },
   "outputs": [
    {
     "name": "stdout",
     "output_type": "stream",
     "text": [
      "file format: NETCDF4\n",
      "Conventions: CF-1.6\n",
      "title: Salish Sea NEMO Bathymetry\n",
      "institution: Dept of Earth, Ocean & Atmospheric Sciences, University of British Columbia\n",
      "references: https://bitbucket.org/salishsea/nemo-forcing/src/tip/grid/bathy_meter_SalishSea.nc\n",
      "comment: Based on 1_bathymetry_seagrid_WestCoast.nc file from 2-Oct-2013 WCSD_PREP tarball provided by J-P Paquin.\n",
      "source: \n",
      "https://bitbucket.org/salishsea/tools/src/tip/bathymetry/SalishSeaBathy.ipynb\n",
      "https://bitbucket.org/salishsea/tools/src/tip/bathymetry/SmoothMouthJdF.ipynb\n",
      "\n",
      "history: \n",
      "[2013-10-30 13:18] Created netCDF4 zlib=True dataset.\n",
      "[2013-10-30 15:22] Set depths between 0 and 4m to 4m and those >428m to 428m.\n",
      "[2013-10-31 17:10] Algorithmic smoothing.\n",
      "[2013-11-21 19:53] Reverted to pre-smothing dataset (repo rev 3b301b5b9b6d).\n",
      "[2013-11-21 20:14] Updated dataset and variable attributes to CF-1.6 conventions & project standards.\n",
      "[2013-11-21 20:47] Removed east end of Jervis Inlet and Toba Inlet region due to deficient source bathymetry data in Cascadia dataset.\n",
      "[2013-11-21 21:52] Algorithmic smoothing.\n",
      "[2014-01-01 14:44] Smoothed mouth of Juan de Fuca\n",
      "\n"
     ]
    }
   ],
   "source": [
    "nc_tools.show_dataset_attrs(grid)"
   ]
  },
  {
   "cell_type": "code",
   "execution_count": 8,
   "metadata": {
    "collapsed": false
   },
   "outputs": [
    {
     "name": "stdout",
     "output_type": "stream",
     "text": [
      "<class 'netCDF4._netCDF4.Variable'>\n",
      "float64 nav_lon(y, x)\n",
      "    units: degrees east\n",
      "    valid_range: [-126.40029144 -121.31835175]\n",
      "    long_name: Longitude\n",
      "unlimited dimensions: \n",
      "current shape = (898, 398)\n",
      "filling on, default _FillValue of 9.969209968386869e+36 used\n",
      "\n"
     ]
    }
   ],
   "source": [
    "nc_tools.show_variable_attrs(grid, 'nav_lon')"
   ]
  },
  {
   "cell_type": "code",
   "execution_count": 9,
   "metadata": {
    "collapsed": false
   },
   "outputs": [
    {
     "name": "stdout",
     "output_type": "stream",
     "text": [
      "<class 'netCDF4._netCDF4.Variable'>\n",
      "float64 nav_lon(y, x)\n",
      "    units: degrees east\n",
      "    valid_range: [-126.40029144 -121.31835175]\n",
      "    long_name: Longitude\n",
      "unlimited dimensions: \n",
      "current shape = (898, 398)\n",
      "filling on, default _FillValue of 9.969209968386869e+36 used\n",
      "\n",
      "<class 'netCDF4._netCDF4.Variable'>\n",
      "float64 nav_lat(y, x)\n",
      "    units: degrees north\n",
      "    valid_range: [ 46.85966492  51.10480118]\n",
      "    long_name: Latitude\n",
      "unlimited dimensions: \n",
      "current shape = (898, 398)\n",
      "filling on, default _FillValue of 9.969209968386869e+36 used\n",
      "\n",
      "<class 'netCDF4._netCDF4.Variable'>\n",
      "float64 Bathymetry(y, x)\n",
      "    _FillValue: 0.0\n",
      "    least_significant_digit: 1\n",
      "    units: m\n",
      "    valid_range: [   0.  428.]\n",
      "    long_name: Depth\n",
      "    positive: down\n",
      "unlimited dimensions: \n",
      "current shape = (898, 398)\n",
      "filling on\n"
     ]
    }
   ],
   "source": [
    "nc_tools.show_variable_attrs(grid)"
   ]
  },
  {
   "cell_type": "code",
   "execution_count": null,
   "metadata": {
    "collapsed": true
   },
   "outputs": [],
   "source": []
  }
 ],
 "metadata": {
  "kernelspec": {
   "display_name": "Python 3",
   "language": "python",
   "name": "python3"
  },
  "language_info": {
   "codemirror_mode": {
    "name": "ipython",
    "version": 3
   },
   "file_extension": ".py",
   "mimetype": "text/x-python",
   "name": "python",
   "nbconvert_exporter": "python",
   "pygments_lexer": "ipython3",
   "version": "3.5.1"
  }
 },
 "nbformat": 4,
 "nbformat_minor": 0
}
